from input import *

locals().update(params_value_kragarm)








#| label: tbl-parameters-kragarm
#| tbl-cap: "Berechnungsparameter des Kragarms"

dict_to_table(params_kragarm)





#| label: fig-springcharacteristic
#| fig-cap: "Charakteristik der Drehfeder"


def M_phi_spring(phi: np.array, k_phi1, k_phi2):
    phi_1, phi_2, phi_3, phi_4 = np.array_split(phi, 4)
    M_phi_1 = phi_3 * k_phi1
    M_phi_2 = M_phi_1[-1] + phi_3 * k_phi2
    M_phi_3 = np.flip(-M_phi_1)
    M_phi_4 = np.flip(-M_phi_2)

    M_phi = np.concatenate((M_phi_4, M_phi_3, M_phi_1, M_phi_2))
    return M_phi


# Arrays
Phi_spring_array = np.linspace(-1, 1, 1000)
M_phi_array = M_phi_spring(Phi_spring_array, k_1, k_2)


plt.plot(Phi_spring_array, M_phi_array / 10**3, color="black")
plt.fill_between(Phi_spring_array, M_phi_array / 10**3, color="black", alpha=0.1)

plt.xlabel("$\\varphi$ [rad]")
plt.ylabel("$M$ [kNm]")
plt.show()





# GEOMETRY System
x_array = np.linspace(0, to_float(l_Kragarm), 500)
q_array = np.zeros(len(x_array))
I = h**3 * b / 12


def V_x(c, q_x, x):
    q_integrated = integrate.cumulative_trapezoid(q_x, x, initial=0)
    return -q_integrated + c[0]


def M_x(c, q_x, x):
    V_x_calc = V_x(c, q_x, x)
    V_integrated = integrate.cumulative_trapezoid(V_x_calc, x, initial=0)
    return V_integrated + c[1]


def Phi_x(c, q_x, x, E, I):
    M_x_calc = M_x(c, q_x, x)
    M_integrated = integrate.cumulative_trapezoid(M_x_calc, x, initial=0)
    return 1 / (E * I) * M_integrated + c[2]


def w_x(c, q_x, x, E, I):
    Phi_x_calc = Phi_x(c, q_x, x, E, I)
    Phi_integrated = -integrate.cumulative_trapezoid(Phi_x_calc, x, initial=0)
    return Phi_integrated + c[3]


# Define the equations to solve


def calc_internal_forces(F: float):
    def initial_conditions(c):
        return [
            V_x(c, q_array, x_array)[0] + F,  # Shear force at the start is F
            M_x(c, q_array, x_array)[-1],  # Bending moment at the end is 0
            Phi_x(c, q_array, x_array, E, I)[0],  # Angle or rotation at the start is 0
            w_x(c, q_array, x_array, E, I)[0],
        ]  # Displacement at the start is 0

    # Solve for the integration constants
    integration_constants = fsolve(initial_conditions, [1, 1, 1, 1])

    V_x_array = V_x(integration_constants, q_array, x_array)
    M_x_array = M_x(integration_constants, q_array, x_array)
    Phi_x_array = Phi_x(integration_constants, q_array, x_array, E, I)
    w_x_array = w_x(integration_constants, q_array, x_array, E, I)

    return V_x_array, M_x_array, Phi_x_array, w_x_array


internal_forces_F1 = calc_internal_forces(F1)
internal_forces_F2 = calc_internal_forces(F2)


plot_counter_inner_forces = 1


def plot_inner_forces(
    V: np.array,
    M: np.array,
    Phi: np.array,
    w: np.array,
    x: np.array,
    kinematic=True,
    colors: list = ["green", "orange", "red", "blue"],
):
    global plot_counter_inner_forces

    fig, axs = plt.subplots(2, 2, figsize=(6, 4))

    # Plot V_x_array
    axs[0, 0].plot(x, V / 1000, color=colors[0], alpha=0.5)
    axs[0, 0].fill_between(x, V / 1000, color=colors[0], alpha=0.1)
    axs[0, 0].plot(x, x * 0, color="black")
    axs[0, 0].set_xlabel("$x$ [m]")
    axs[0, 0].set_ylabel("$V_x$ [kN]")

    # Plot M_x_array
    axs[0, 1].plot(x, M / 10**3, color=colors[1], alpha=0.5)
    axs[0, 1].fill_between(x, M / 10**3, color=colors[1], alpha=0.1)
    axs[0, 1].plot(x, x * 0, color="black")
    axs[0, 1].invert_yaxis()  # Invert the y-axis

    axs[0, 1].set_xlabel("$x$ [m]")
    axs[0, 1].set_ylabel("$M$ [kNm]")

    # Plot Phi_x_array
    axs[1, 0].plot(x, Phi, color=colors[2], alpha=0.5)
    axs[1, 0].fill_between(x, Phi, color=colors[2], alpha=0.1)
    axs[1, 0].plot(x, x * 0, color="black")
    axs[1, 0].set_xlabel("$x$ [m]")
    # axs[1, 0].set_ylim(0,1)
    axs[1, 0].set_ylabel("$\\varphi$ [-]")

    # Plot w_x_array
    axs[1, 1].plot(x, w * 1000, color=colors[3], alpha=0.5)
    axs[1, 1].fill_between(x, w * 1000, color=colors[3], alpha=0.1)
    axs[1, 1].plot(x, x * 0, color="black")
    axs[1, 1].invert_yaxis()  # Invert the y-axis
    axs[1, 1].set_xlabel("$x$ [m]")
    axs[1, 1].set_ylabel("$w$ [mm]")

    if kinematic == False:
        fig.delaxes(axs[1, 1])
        fig.delaxes(axs[1, 0])

    plt.tight_layout()
    plt.savefig(f"imgs/inner_forces_{plot_counter_inner_forces}.svg")
    plt.show()
    plot_counter_inner_forces += 1


#| label: fig-skkragarmreal
#| fig-cap: "Schnittkräfte des Systems aus @fig-kragarm-sys für die Last $F_1$"

plot_inner_forces(*internal_forces_F1, x_array, kinematic=True)


w_max_hand = round(-F1 * l_Kragarm**3 / (3 * E * I), 5)
w_bending_F1 = round(internal_forces_F1[-1][-1], 5)

display_eq("w_1,Bending,F1", to_convert(w_bending_F1 * unit.meter, unit.mm))
assert w_max_hand == w_bending_F1, "Handcalculation shows differences"





#| label: fig-skkragarmreal_high
#| fig-cap: "Schnittkräfte des Systems aus @fig-kragarm-sys für die Last $F2$"

plot_inner_forces(*internal_forces_F2, x_array)


w_bending_F2 = round(internal_forces_F2[-1][-1], 5)


display_eq("w_1,Bending,F_2", to_convert(w_bending_F2 * unit.meter, unit.mm))





#| label: fig-sk-kragarm-virtuell
#| fig-cap: "Schnittkräfte des virtuellen Systems aus @fig-kragarm-sys-virtuell"

internal_forces_virtual = calc_internal_forces(-1.0)

plot_inner_forces(
    *internal_forces_virtual,
    x_array,
    kinematic=False,
    colors=["black", "black", "black", "black"]
)





# Takes the corresponding phi for the middle M
phi_spring_F1 = np.interp(
    np.median(internal_forces_F1[1]), M_phi_array, Phi_spring_array
)
phi_spring_F2 = np.interp(
    np.median(internal_forces_F2[1]), M_phi_array, Phi_spring_array
)


w_spring_F1 = np.median(internal_forces_virtual[1]) * phi_spring_F1
w_spring_F2 = np.median(internal_forces_virtual[1]) * phi_spring_F2


display_eq(
    "w_1,spring,F1", unit.convert_to(np.round(w_spring_F1, 4) * unit.meter, unit.mm)
)
display_eq(
    "w_1,spring,F2", unit.convert_to(np.round(w_spring_F2, 4) * unit.meter, unit.mm)
)





plt.plot(Phi_spring_array, M_phi_array / 10**3, color="black")
plt.fill_between(Phi_spring_array, M_phi_array / 10**3, color="black", alpha=0.1)

plt.axvline(x=phi_spring_F1, color="black", linestyle="--", label="$F_1$")
plt.axvline(x=phi_spring_F2, color="black", linestyle="dotted", label="$F_2$")


plt.xlabel("$\\varphi$ [rad]")
plt.ylabel("$M$ [kNm]")
plt.legend()
plt.savefig("imgs/spring_charact.svg")
plt.show()


w_tot_F1 = w_spring_F1 + w_bending_F1
display_eq("w_tot,F1", unit.convert_to(np.round(w_tot_F1, 5) * unit.meter, unit.mm))





w_tot_F2 = w_spring_F2 + w_bending_F2
display_eq("w_tot,F2", unit.convert_to(np.round(w_tot_F2, 5) * unit.meter, unit.mm))








def F_u_spring(M: np.array, Phi: np.array, z: float):
    F = M / z
    u = Phi * z / 2

    return F, u


F_array, u_array = F_u_spring(M_phi_array, Phi_spring_array, z)


# The deformations for the corresponding F
index_F1 = np.argmin(np.abs(F_array - 61.25 * 1000))
u_F1 = u_array[index_F1]

index_F2 = np.argmin(np.abs(F_array - 131.69 * 1000))
u_F2 = u_array[index_F2]

plt.axvline(x=u_F1, color="black", linestyle="--", label="$F_1$")
plt.axvline(x=u_F2, color="black", linestyle="dotted", label="$F_2$")


plt.plot(u_array, F_array / 10**3, color="black")
plt.fill_between(u_array, F_array / 10**3, color="black", alpha=0.1)
plt.xlabel("$u$ [m]")
plt.ylabel("$F$ [kN]")
plt.savefig("imgs/F_u.svg")
plt.show()


diff_F = np.gradient(F_array)
diff_u = np.gradient(u_array)
F_of_u_derivative = diff_F / diff_u

k_1_weg = np.max(F_of_u_derivative[np.where(F_of_u_derivative >= 500000)])
k_2_weg = np.max(F_of_u_derivative[np.where(F_of_u_derivative <= 500000)])

alpha_weg = k_2_weg / k_1_weg


display_eq("k_1_x", unit.convert_to(np.round(k_1_weg, -2) * unit.N / unit.m, unit.kN))
display_eq("k_2_x", unit.convert_to(np.round(k_2_weg, -2) * unit.N / unit.m, unit.kN))

display_eq("alpha", np.round(alpha_weg, 3))


plt.plot(u_array, F_of_u_derivative / 10**3, color="black")
plt.fill_between(u_array, F_of_u_derivative / 10**3, color="black", alpha=0.1)
plt.xlabel("$u$ [m]")
plt.ylabel("$\\frac{dF}{du}$ [kN/m]")
plt.savefig("imgs/dF_u.svg")

plt.show()


np.max(u_array)


np.max(F_array)


index_F_0 = np.max(np.where(np.where(F_of_u_derivative <= 500 * 10**3)[0] <= 500))
F_0 = F_array[index_F_0]
u_0 = u_array[index_F_0]

display_eq("F_0", unit.convert_to(np.round(F_0, -2) * unit.N, unit.kN))
display_eq("u_0", unit.convert_to(np.round(u_0, 5) * unit.m, unit.mm))








#| label: tbl-parameters-kragarm2
#| tbl-cap: "Berechnungsparameter des Versuchs A3V2"

locals().update(params_value_a3v2)

dict_to_table(params_a3v2)





# Read the text file using numpy
M_array = np.loadtxt("docs/M_A3V2.txt")
chi_array = np.loadtxt("docs/chi_A3V2.txt")


chi_interpolated = np.linspace(0, max(chi_array), 1000)
# Linear interpolation in M_array
M_interpolated = np.interp(chi_interpolated, chi_array, M_array)

# Plot the interpolated data
plt.plot(chi_interpolated, M_interpolated / 10**3, color="black")
plt.fill_between(chi_interpolated, M_interpolated / 10**3, color="black", alpha=0.1)
plt.xlabel("$\chi$ [1/m]")
plt.ylabel("$M$ [kNm]")
plt.show()


diff_M = np.gradient(M_interpolated)
diff_chi = np.gradient(chi_interpolated)
M_of_chi_derivative = diff_M / diff_chi


plt.plot(chi_interpolated, M_of_chi_derivative / 10**3, color="black")
plt.fill_between(
    chi_interpolated, M_of_chi_derivative / 10**3, color="black", alpha=0.1
)
plt.xlabel("$\chi$ [1/m]")
plt.ylabel("$\\frac{dM}{\chi}$ [kNm$^2$]")


plt.show()


l_element = 0.01 * unit.meter





F_a3v2_array, u_a3v2_array = F_u_spring(M_array, chi_array * l_element, 0.4)


to_float(F_a3v2_array)


to_float(u_a3v2_array)


to_float(u_a3v2_array).astype(float)


plt.plot(to_float(u_a3v2_array), to_float(F_a3v2_array) / 10**3, color="black")
plt.fill_between(
    to_float(u_a3v2_array).astype(float),
    to_float(F_a3v2_array).astype(float) / 10**3,
    color="black",
    alpha=0.1,
)
plt.xlabel("$u$ [m]")
plt.ylabel("$F$ [kN]")
plt.show()


# Linear interpolation
u_interpolated_a3v2 = np.linspace(0, max(to_float(u_a3v2_array)), 1000).astype(float)

F_interpolated_a3v2 = np.interp(
    u_interpolated_a3v2, to_float(u_a3v2_array).astype(float), to_float(F_a3v2_array)
)

diff_F_a3v2 = np.gradient(F_interpolated_a3v2)
diff_u_a3v2 = np.gradient(u_interpolated_a3v2)
F_of_u_derivative_a3v2 = diff_F_a3v2 / diff_u_a3v2

plt.plot(to_float(u_interpolated_a3v2), to_float(F_of_u_derivative_a3v2), color="black")
plt.fill_between(
    to_float(u_interpolated_a3v2),
    to_float(F_of_u_derivative_a3v2),
    color="black",
    alpha=0.1,
)
plt.xlabel("$u$ [m]")
plt.ylabel("$\\frac{dF}{du}$ [kN/m]")


plt.show()


k_2_x_a3v2 = F_of_u_derivative_a3v2[-1]
k_1_x_a3v2 = F_of_u_derivative_a3v2[np.where(u_interpolated_a3v2 <= 2 * 10**-5)][-1]


alpha_a3v2 = k_2_x_a3v2 / k_1_x_a3v2

EA_weg_a3v2 = k_1_x_a3v2 * to_float(l_element)


display_eq(
    "k_1_x", unit.convert_to(np.round(k_2_x_a3v2, -2) * unit.N / unit.meter, unit.kN)
)
display_eq(
    "k_2_x", unit.convert_to(np.round(k_1_x_a3v2, -2) * unit.N / unit.meter, unit.kN)
)

display_eq("alpha", np.round(alpha_a3v2, 3))

display_eq("EA", unit.convert_to(np.round(EA_weg_a3v2) * unit.N, unit.kN))





sigma_w_A3V2 = np.array([0.0, 546, 630]) * unit.N / unit.mm**2


epsilon_w_A3V2 = np.array([0.0, 546 / 205000, 0.05])

plt.plot(to_float(epsilon_w_A3V2), to_float(sigma_w_A3V2) / 1000**2, color="black")
plt.fill_between(
    to_float(epsilon_w_A3V2), to_float(sigma_w_A3V2) / 1000**2, color="black", alpha=0.1
)
plt.xlabel("$\\varepsilon$ [-]")
plt.ylabel("$\\sigma$ [N/mm$^2$]")
plt.show()


diam_sw_A3V2 = 6 * unit.mm
A_sw_A3V2 = 7 * (diam_sw_A3V2 / 2) ** 2 * np.pi
S_sw_A3V2 = 80 * unit.mm
a_sw_A3V2 = A_sw_A3V2 * 1000 * unit.mm / S_sw_A3V2 / unit.m
b_w_A3V2 = 800 * unit.mm
rho_sw_A3V2 = a_sw_A3V2 / b_w_A3V2
z_approx_A3V2 = 140 * unit.mm
E_sw_A3V2 = 205000 * unit.N / unit.mm**2
E_sh_A3V2 = (sigma_w_A3V2[-1] - sigma_w_A3V2[-2]) / (epsilon_w_A3V2[-1] - epsilon_w_A3V2[-2])
theta_sw_A3V2 = 34.3 * unit.degree
display_eq(
    "\oslash_sw",
    diam_sw_A3V2.evalf(3),
    "A_sw",
    A_sw_A3V2.evalf(3),
    "S_sw",
    S_sw_A3V2.evalf(3),
    "a_sw",
    a_sw_A3V2.evalf(3),
    "b_w",
    b_w_A3V2.evalf(3),
    "rho_sw",
    to_convert(rho_sw_A3V2.evalf(3).simplify(), unit.percent),
    "z_approx",
    z_approx_A3V2,
    "E_sw",
    E_sw_A3V2,
    "E_sh",
    E_sh_A3V2.evalf(4),
    "theta_c3",
    theta_sw_A3V2,
)





F_w_A3V2 = sigma_w_A3V2 * a_sw_A3V2 * z_approx_A3V2 * sp.cot(theta_sw_A3V2)

E_s_A3V2 = sigma_w_A3V2 / epsilon_w_A3V2


gamma_element_A3V2 = z_approx_A3V2 * sp.cot(theta_sw_A3V2) / l_element
u_sw_A3V2 = epsilon_w_A3V2 * z_approx_A3V2 / gamma_element_A3V2

display_eq('\gamma_{Element}', np.round(to_float(gamma_element_A3V2)))





plt.plot(to_float(u_sw_A3V2), to_float(F_w_A3V2), color="black")
plt.fill_between(to_float(u_sw_A3V2), to_float(F_w_A3V2), color="black", alpha=0.1)
plt.xlabel("$u$ [m]")
plt.ylabel("$F$ [N]")
plt.show()


to_float(F_w_A3V2)


to_float(u_sw_A3V2)*1000





# Versuch Jaeger
w_1_versuch_A3V2 = np.array(
    [2.6, 10.2, 10.3, 11.5, 11.6, 13, 13.1, 14.9, 15.1, 23.8, 24.3, 35.4, 39.4, 40.1]
)
F_A_versuch_A3V2 = np.array(
    [
        0,
        211.3,
        204.1,
        241.9,
        236.8,
        271.3,
        260.3,
        300.6,
        287.7,
        324.6,
        293.5,
        331.2,
        325.1,
        301.8,
    ]
)

w_calc_a3v2 = np.array(
    [
        0.144,
        0.28,
        0.43,
        0.6,
        1.3,
        1.9,
        2.4,
        2.9,
        3.3,
        3.8,
        4.2,
        4.6,
        5,
        5.4,
        5.8,
        6.2,
        6.7,
        7,
        7.5,
        7.9,
        8.3,
        8.6,
        9,
        9.5,
        9.9,
        10.3,
        10.7,
        11.1,
        12.1,
        13.9,
        16.2,
        19,
        22.2,
    ]
)


F_calc_a3v2 = np.linspace(10, 330, 33)

plt.plot(w_calc_a3v2, F_calc_a3v2, color="black", label="Nachrechnung AxisVM")
plt.plot(
    w_1_versuch_A3V2 - w_1_versuch_A3V2[0],
    F_A_versuch_A3V2,
    color="blue",
    label="Versuch A3V2",
)
plt.xlabel("$w$ [mm]")
plt.ylabel("$F$ [kN]")
plt.legend()
plt.savefig("imgs/F_w_nachrechnung_A3V2.svg")
plt.show()





DF_A3V2_LS320 = pd.read_excel("calcs\FEM\AxisVM\A3V2.xlsx")
x_array_A3V2 = np.linspace(0, 2620, len(DF_A3V2_LS320.iloc[:, 0]))


plt.plot(x_array_A3V2, DF_A3V2_LS320.iloc[:, -3], color="black")
plt.plot(x_array_A3V2, np.zeros(x_array_A3V2.shape), color="black", linestyle="dashed")

plt.xlabel("$x$")
plt.ylabel("$\\varphi$")
plt.show()





chi_a3v2 = np.gradient(DF_A3V2_LS320.iloc[:, -3], 0.01)

plt.plot(x_array_A3V2 / 1000, chi_a3v2, color="black")
plt.ylabel("$\\chi$ [1/m]")
plt.xlabel("$x$ [m]")
plt.savefig("imgs/kruemmungsverlauf_A3V2_axis.svg")
plt.show()








# Read the text file using numpy
M_SV14_array = np.loadtxt("docs/M_SV14.txt")
chi_SV14_array = np.loadtxt("docs/chi_SV14.txt")


chi_SV14_interpolated = np.linspace(0, max(chi_SV14_array), 1000)
# Linear interpolation in M_array
M_SV14_interpolated = np.interp(chi_SV14_interpolated, chi_SV14_array, M_SV14_array)

# Plot the interpolated data
plt.plot(chi_SV14_interpolated, M_SV14_interpolated / 10**3, color="black")
plt.fill_between(
    chi_SV14_interpolated, M_SV14_interpolated / 10**3, color="black", alpha=0.1
)
plt.xlabel("$\chi$ [1/m]")
plt.ylabel("$M$ [kNm]")
plt.show()


M_SV14_array / 10**3








sigma_w_SV14 = np.array([0.0, 550, 657]) * unit.N / unit.mm**2


epsilon_w_SV14 = np.array([0.0, 550 / 205000, 0.05])

plt.plot(to_float(epsilon_w_SV14), to_float(sigma_w_SV14) / 1000**2, color="black")
plt.fill_between(
    to_float(epsilon_w_SV14), to_float(sigma_w_SV14) / 1000**2, color="black", alpha=0.1
)
plt.xlabel("$\\varepsilon$ [-]")
plt.ylabel("$\\sigma$ [N/mm$^2$]")
plt.show()


diam_sw = 4.3 * unit.mm
A_sw = 2 * (diam_sw / 2) ** 2 * np.pi
S_sw = 300 * unit.mm
a_sw = A_sw * 1000 * unit.mm / S_sw / unit.m
b_w = 170 * unit.mm
rho_sw = a_sw / b_w
z_approx = 359 * unit.mm
E_sw = 205000 * unit.N / unit.mm**2
E_sh = (sigma_w_SV14[-1] - sigma_w_SV14[-2]) / (epsilon_w_SV14[-1] - epsilon_w_SV14[-2])
theta_sw = 12.3 * unit.degree
display_eq(
    "\oslash_sw",
    diam_sw.evalf(3),
    "A_sw",
    A_sw.evalf(3),
    "S_sw",
    S_sw.evalf(3),
    "a_sw",
    a_sw.evalf(3),
    "b_w",
    b_w.evalf(3),
    "rho_sw",
    to_convert(rho_sw.evalf(3).simplify(), unit.percent),
    "z_approx",
    z_approx,
    "E_sw",
    E_sw,
    "E_sh",
    E_sh.evalf(4),
    "theta_c3",
    theta_sw,
)





F_w_SV14 = sigma_w_SV14 * a_sw * z_approx * sp.cot(theta_sw)

E_s_SV14 = sigma_w_SV14 / epsilon_w_SV14


gamma_element = z_approx * sp.cot(theta_sw) / l_element
u_sw_SV14 = epsilon_w_SV14 * z_approx / gamma_element

display_eq('\gamma_{Element}', np.round(to_float(gamma_element)))





plt.plot(to_float(u_sw_SV14), to_float(F_w_SV14), color="black")
plt.fill_between(to_float(u_sw_SV14), to_float(F_w_SV14), color="black", alpha=0.1)
plt.xlabel("$u$ [m]")
plt.ylabel("$F$ [N]")
plt.show()


to_float(F_w_SV14)


to_float(u_sw_SV14)*1000






