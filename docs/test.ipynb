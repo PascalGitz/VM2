{
 "cells": [
  {
   "cell_type": "code",
   "execution_count": 1,
   "metadata": {},
   "outputs": [],
   "source": [
    "import handcalcs.render\n",
    "from numpy import *\n",
    "from pint import UnitRegistry\n",
    "\n",
    "ur = UnitRegistry()"
   ]
  },
  {
   "cell_type": "code",
   "execution_count": 2,
   "metadata": {},
   "outputs": [],
   "source": [
    "kg = ur.kg\n",
    "kN = ur.kN\n",
    "s = ur.s\n",
    "m = ur.m\n",
    "mm = ur.mm\n",
    "N = ur.N\n",
    "cm = ur.cm"
   ]
  },
  {
   "cell_type": "code",
   "execution_count": 3,
   "metadata": {},
   "outputs": [
    {
     "data": {
      "text/latex": [
       "$$\n",
       "\\begin{aligned}\n",
       "M &= 1200000.000\\ \\mathrm{kg} \\; \n",
       "\\\\[12pt]\n",
       "V &= 1266.000\\ \\mathrm{kN} \\; \n",
       "\\\\[12pt]\n",
       "g &= 9.810\\ \\frac{\\mathrm{m}}{\\mathrm{s}^{2}} \\; \n",
       "\\\\[12pt]\n",
       "S_{d} &= \\left( \\frac{ V }{ M } \\right)  = \\left( \\frac{ 1266.000\\ \\mathrm{kN} }{ 1200000.000\\ \\mathrm{kg} } \\right) &= 1.055\\ \\frac{\\mathrm{m}}{\\mathrm{s}^{2}}  \n",
       "\\end{aligned}\n",
       "$$"
      ],
      "text/plain": [
       "<IPython.core.display.Latex object>"
      ]
     },
     "metadata": {},
     "output_type": "display_data"
    }
   ],
   "source": [
    "%%render \n",
    "\n",
    "M = (1200000 *kg)\n",
    "V = (1266*kN)\n",
    "g = (9.81*m/s**2)\n",
    "S_d = (V/M).to(m/s**2)\n",
    "\n"
   ]
  },
  {
   "cell_type": "code",
   "execution_count": 4,
   "metadata": {},
   "outputs": [
    {
     "data": {
      "text/latex": [
       "$$\n",
       "\\begin{aligned}\n",
       "S_{d_{EMS}} &= 0.26\\ \\frac{\\mathrm{m}}{\\mathrm{s}^{2}} \\; \n",
       "\\\\[12pt]\n",
       "V_{5m} &= \\left( 5 \\cdot M \\cdot S_{d_{EMS}} \\right)  = \\left( 5 \\cdot 1200000.00\\ \\mathrm{kg} \\cdot 0.26\\ \\frac{\\mathrm{m}}{\\mathrm{s}^{2}} \\right) &= 1560.00\\ \\mathrm{kN}  \n",
       "\\end{aligned}\n",
       "$$"
      ],
      "text/plain": [
       "<IPython.core.display.Latex object>"
      ]
     },
     "metadata": {},
     "output_type": "display_data"
    }
   ],
   "source": [
    "%%render 2\n",
    "\n",
    "S_d_EMS = (0.26*m/s**2)\n",
    "V_5m = (5* M * S_d_EMS).to(kN) \n"
   ]
  },
  {
   "cell_type": "code",
   "execution_count": 5,
   "metadata": {},
   "outputs": [
    {
     "data": {
      "text/latex": [
       "$$\n",
       "\\begin{aligned}\n",
       "L &= 5.000\\ \\mathrm{m} \\; \n",
       "\\\\[12pt]\n",
       "E &= 205000.000\\ \\frac{\\mathrm{N}}{\\mathrm{mm}^{2}} \\; \n",
       "\\\\[12pt]\n",
       "I &= 1336.000\\ \\mathrm{cm}^{4} \\; \n",
       "\\\\[12pt]\n",
       "N_{cr} &= \\left( \\frac{ \\left( \\pi \\right) ^{ 2 } \\cdot E \\cdot I }{ \\left( L \\right) ^{ 2 } } \\right)  = \\left( \\frac{ \\left( 3.142 \\right) ^{ 2 } \\cdot 205000.000\\ \\frac{\\mathrm{N}}{\\mathrm{mm}^{2}} \\cdot 1336.000\\ \\mathrm{cm}^{4} }{ \\left( 5.000\\ \\mathrm{m} \\right) ^{ 2 } } \\right) &= 1081.235\\ \\mathrm{kN}  \n",
       "\\end{aligned}\n",
       "$$"
      ],
      "text/plain": [
       "<IPython.core.display.Latex object>"
      ]
     },
     "metadata": {},
     "output_type": "display_data"
    }
   ],
   "source": [
    "%%render\n",
    "L = (5*m)\n",
    "E = (205000*N/mm**2)\n",
    "I = (1336*cm**4)\n",
    "N_cr = ((pi**2 * E*I )/ L**2).to(kN)"
   ]
  },
  {
   "cell_type": "code",
   "execution_count": null,
   "metadata": {},
   "outputs": [],
   "source": []
  }
 ],
 "metadata": {
  "kernelspec": {
   "display_name": "calcs11",
   "language": "python",
   "name": "python3"
  },
  "language_info": {
   "codemirror_mode": {
    "name": "ipython",
    "version": 3
   },
   "file_extension": ".py",
   "mimetype": "text/x-python",
   "name": "python",
   "nbconvert_exporter": "python",
   "pygments_lexer": "ipython3",
   "version": "3.11.7"
  }
 },
 "nbformat": 4,
 "nbformat_minor": 2
}
