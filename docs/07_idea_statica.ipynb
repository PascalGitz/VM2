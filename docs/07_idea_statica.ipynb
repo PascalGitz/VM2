{
 "cells": [
  {
   "cell_type": "markdown",
   "metadata": {},
   "source": [
    "## IdeaStatica\n",
    "\n",
    "In diesem Kapitel wird darauf abgezielt, das Verformungsverhalten der behandelten Versuche mit einer kommerziellen Software zu bestimmen. Das Ziel ist es die Resultate der Software auf Präzision zu prüfen, sowie die Eingabe des Modells zu verstehen.\n",
    "\n",
    "Dabei wird die Modellaufbereitung beschrieben, sowie einzelne Eingabeparameter diskutiert. Der Berechnungsalgorithmus, bzw. die Finite-Element-Analyse wird grob umschrieben.\n",
    "\n",
    "\n",
    "### Analyse\n",
    "\n",
    "Der Grundgedanke des Lösungsalgorithmus ist in fig-algorithm aufgezeigt. Es lassen sich Systeme im ebenen Spannungszustand modellieren. Dabei werden Betonelemente in Zweidimensionale Elemente unterteilt. Die Bewehrungsstäbe bestehen aus Eindimensionalen Elementen, welche lediglich Kräfte in Stablängsrichtung aufnehmen. \n",
    "\n",
    "\n",
    "![Qualitative Netzeinteilung des Trägers](../imgs/T6_ideastatica.svg){#fig-netzeinteilung}\n",
    "\n",
    "\n",
    "Verknüpft werden die Elemente über weine Wechselbeziehung, welche die Dehnungen an den Betonknoten auf den Bewehrungsstab übertragen. Anhand der Dehnung kann die Spannung entsprechend der Spannungs-Dehnungs-Beziehung ermittelt werden. Es ist auch deutlich zu erkennen dass dieser Ansatz sensibel auf die gewählte Netzteilung reagiert.\n",
    "\n",
    "![Ausgeschnittenes Netzelement mit zweidimensionalen Betonelementen und eindimensionalen Stäben, rechts zeigt die Knoten der Betonflächen mit Wechselbeziehung zu den Stabknoten](../imgs/T6_fem_elemente.svg){#fig-fem_element}\n",
    "\n",
    "![Ausgeschnittenes Netzelement mit zweidimensionalen Betonelementen mit qualitativem Dehnungsverlauf linear interpoliert](../imgs/T6_fem_werkstoffe.svg){#fig-fem_werkstoff}\n",
    "\n",
    "\n"
   ]
  },
  {
   "cell_type": "markdown",
   "metadata": {},
   "source": []
  }
 ],
 "metadata": {
  "language_info": {
   "name": "python"
  }
 },
 "nbformat": 4,
 "nbformat_minor": 2
}
