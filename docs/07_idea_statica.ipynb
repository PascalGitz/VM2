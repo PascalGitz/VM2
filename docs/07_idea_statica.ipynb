{
 "cells": [
  {
   "cell_type": "markdown",
   "metadata": {},
   "source": [
    "# IdeaStatica\n",
    "\n",
    "In diesem Kapitel wird darauf abgezielt, das Verformungsverhalten der behandelten Versuche mit einer kommerziellen Software zu bestimmen. Das Ziel ist es die Resultate der Software auf Präzision zu prüfen, sowie die Eingabe des Modells zu verstehen.\n",
    "\n",
    "Dabei wird die Modellaufbereitung beschrieben, sowie einzelne Eingabeparameter diskutiert. "
   ]
  }
 ],
 "metadata": {
  "language_info": {
   "name": "python"
  }
 },
 "nbformat": 4,
 "nbformat_minor": 2
}
