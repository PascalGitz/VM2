{
 "cells": [
  {
   "cell_type": "code",
   "execution_count": 1,
   "metadata": {},
   "outputs": [],
   "source": [
    "# Rendering\n",
    "import handcalcs.render\n",
    "\n",
    "# Unit handling\n",
    "from pint import UnitRegistry\n",
    "ureg = UnitRegistry()\n",
    "\n",
    "# Numeric functions\n",
    "from numpy import sqrt,pi\n",
    "\n",
    "# Analytical Calculations\n",
    "import sympy as sp"
   ]
  },
  {
   "cell_type": "code",
   "execution_count": 2,
   "metadata": {},
   "outputs": [
    {
     "data": {
      "text/latex": [
       "$$\n",
       "\\begin{aligned}\n",
       "D_{1} &= 18.000\\ \\mathrm{mm} \\; \n",
       "\\\\[12pt]\n",
       "D_{2} &= 12.000\\ \\mathrm{mm} \\; \n",
       "\\\\[12pt]\n",
       "A_{s1} &= \\frac{ \\left( D_{1} \\right) ^{ 2 } }{ 4 } \\cdot 2 \\cdot \\pi  = \\frac{ \\left( 18.000\\ \\mathrm{mm} \\right) ^{ 2 } }{ 4 } \\cdot 2 \\cdot 3.142 &= 508.938\\ \\mathrm{mm}^{2}  \n",
       "\\\\[12pt]\n",
       "A_{s2} &= \\frac{ \\left( D_{2} \\right) ^{ 2 } }{ 4 } \\cdot \\pi  = \\frac{ \\left( 12.000\\ \\mathrm{mm} \\right) ^{ 2 } }{ 4 } \\cdot 3.142 &= 113.097\\ \\mathrm{mm}^{2}  \n",
       "\\end{aligned}\n",
       "$$"
      ],
      "text/plain": [
       "<IPython.core.display.Latex object>"
      ]
     },
     "metadata": {},
     "output_type": "display_data"
    }
   ],
   "source": [
    "%%render \n",
    "\n",
    "D_1 = (18*ureg.mm)\n",
    "D_2 = (12*ureg.mm)\n",
    "A_s1 = D_1**2/4*2*pi\n",
    "A_s2 = D_2**2/4*pi\n",
    "\n"
   ]
  },
  {
   "cell_type": "code",
   "execution_count": 3,
   "metadata": {},
   "outputs": [
    {
     "data": {
      "text/latex": [
       "$$\n",
       "\\begin{aligned}\n",
       "f_{y1} &= 670.000\\ \\frac{\\mathrm{N}}{\\mathrm{mm}^{2}} \\; \n",
       " &f_{y2} &= 550.000\\ \\frac{\\mathrm{N}}{\\mathrm{mm}^{2}} \\; \n",
       " &f_{cd} &= 35.000\\ \\frac{\\mathrm{N}}{\\mathrm{mm}^{2}} \\; \n",
       "\\\\[12pt]\n",
       " b_{w} &= 170.000\\ \\mathrm{mm} \\; \n",
       " &E_{s} &= 205000.000\\ \\frac{\\mathrm{N}}{\\mathrm{mm}^{2}} \\; \n",
       " &E_{c} &= 36011.000\\ \\frac{\\mathrm{N}}{\\mathrm{mm}^{2}} \\; \n",
       "\\\\[12pt]\n",
       "\\end{aligned}\n",
       "$$"
      ],
      "text/plain": [
       "<IPython.core.display.Latex object>"
      ]
     },
     "metadata": {},
     "output_type": "display_data"
    }
   ],
   "source": [
    "%%render params\n",
    "\n",
    "f_y1 = 670 *ureg.N/ureg.mm**2\n",
    "f_y2 = 550*ureg.N/ureg.mm**2\n",
    "f_cd = 35*ureg.N/ureg.mm**2\n",
    "b_w = 170*ureg.mm\n",
    "\n",
    "E_s = 205000*ureg.N/ureg.mm**2\n",
    "E_c = 36011*ureg.N/ureg.mm**2"
   ]
  },
  {
   "cell_type": "code",
   "execution_count": 4,
   "metadata": {},
   "outputs": [],
   "source": [
    "x, q = sp.symbols('x q')\n",
    "ratio = q\n",
    "\n",
    "h = 450*ureg.mm\n",
    "c_nom = 44*ureg.mm\n",
    "\n",
    "epsilon_sy = f_y2/E_s\n",
    "epsilon_c_y = f_cd/E_c\n",
    "\n",
    "F_c = b_w.magnitude * f_cd.magnitude * x*(1-ratio) + b_w.magnitude * f_cd.magnitude * x*ratio *0.5\n",
    "F_s = (A_s1*f_y1 + A_s2 * f_y2).magnitude\n",
    "exprs3 = epsilon_sy.magnitude /(h.magnitude-x-c_nom.magnitude) * x*ratio - epsilon_c_y.magnitude\n",
    "\n",
    "q_approx, x_approx = sp.solve([sp.Eq(F_c, F_s),exprs3])[0].values()\n",
    "\n",
    "x_approx = float(x_approx)*ureg.mm"
   ]
  },
  {
   "cell_type": "code",
   "execution_count": 5,
   "metadata": {},
   "outputs": [
    {
     "data": {
      "text/latex": [
       "$$\n",
       "\\begin{aligned}\n",
       "\\varepsilon_{c} &= \\left( \\frac{ \\varepsilon_{sy} }{ h - x_{approx} - c_{nom} } \\cdot x_{approx} \\right)  = \\left( \\frac{ 0.00268\\ }{ 450.00000\\ \\mathrm{mm} - 119.63338\\ \\mathrm{mm} - 44.00000\\ \\mathrm{mm} } \\cdot 119.63338\\ \\mathrm{mm} \\right) &= 0.00112\\  \n",
       "\\end{aligned}\n",
       "$$"
      ],
      "text/plain": [
       "<IPython.core.display.Latex object>"
      ]
     },
     "metadata": {},
     "output_type": "display_data"
    }
   ],
   "source": [
    "%%render short 5\n",
    "\n",
    "epsilon_c = (epsilon_sy /(h-x_approx-c_nom)*x_approx)\n"
   ]
  },
  {
   "cell_type": "code",
   "execution_count": 6,
   "metadata": {},
   "outputs": [],
   "source": [
    "h_var = sp.symbols('h_var')"
   ]
  },
  {
   "cell_type": "code",
   "execution_count": 7,
   "metadata": {},
   "outputs": [
    {
     "data": {
      "text/latex": [
       "$$\n",
       "\\begin{aligned}\n",
       "h_{var_{solve}} &= \\mathrm{sp.solve} { \\left( \\frac{ \\varepsilon_{c.magnitude} }{ x_{approx.magnitude} } \\cdot h_{var} - \\varepsilon_{c_{y.magnitude}} ,\\  h_{var} \\right) } \\\\&= sp.solve { \\left( \\frac{ \\varepsilon_{c.magnitude} }{ x_{approx.magnitude} } \\cdot h_{var} - \\varepsilon_{c_{y.magnitude}} ,\\  h_{var} \\right) } \\\\&= [103.74]  \\\\[12pt]\n",
       "\\\\[12pt]\n",
       "x_{iter} &= 103.740\\ \\mathrm{mm} \\; \n",
       "\\end{aligned}\n",
       "$$"
      ],
      "text/plain": [
       "<IPython.core.display.Latex object>"
      ]
     },
     "metadata": {},
     "output_type": "display_data"
    }
   ],
   "source": [
    "%%render\n",
    "\n",
    "h_var_solve = sp.solve(epsilon_c.magnitude / x_approx.magnitude * h_var - epsilon_c_y.magnitude, h_var)\n",
    "x_iter = float(h_var_solve[0])*ureg.mm"
   ]
  },
  {
   "cell_type": "code",
   "execution_count": 8,
   "metadata": {},
   "outputs": [
    {
     "data": {
      "text/latex": [
       "$$\n",
       "\\begin{aligned}\n",
       "d &= h - c_{nom}  = 450.000\\ \\mathrm{mm} - 44.000\\ \\mathrm{mm} &= 406.000\\ \\mathrm{mm}  \n",
       "\\\\[12pt]\n",
       "z &= d - \\frac{ x_{approx} }{ 3 }  = 406.000\\ \\mathrm{mm} - \\frac{ 119.633\\ \\mathrm{mm} }{ 3 } &= 366.122\\ \\mathrm{mm}  \n",
       "\\\\[12pt]\n",
       "\\mathrm{My} &= \\left( \\left( A_{s1} \\cdot f_{y1} + A_{s2} \\cdot f_{y2} \\right) \\cdot z \\right) \\\\&= \\left( \\left( 508.938\\ \\mathrm{mm}^{2} \\cdot 670.000\\ \\frac{\\mathrm{N}}{\\mathrm{mm}^{2}} + 113.097\\ \\mathrm{mm}^{2} \\cdot 550.000\\ \\frac{\\mathrm{N}}{\\mathrm{mm}^{2}} \\right) \\cdot 366.122\\ \\mathrm{mm} \\right) \\\\&= 147.618\\ \\mathrm{kN} \\cdot \\mathrm{m}  \\\\[12pt]\n",
       "\\\\[12pt]\n",
       "\\chi &= \\left( \\frac{ \\varepsilon_{sy} }{ d - x_{approx} } \\right)  = \\left( \\frac{ 0.003\\ }{ 406.000\\ \\mathrm{mm} - 119.633\\ \\mathrm{mm} } \\right) &= 0.009\\ \\frac{1}{\\mathrm{m}}  \n",
       "\\end{aligned}\n",
       "$$"
      ],
      "text/plain": [
       "<IPython.core.display.Latex object>"
      ]
     },
     "metadata": {},
     "output_type": "display_data"
    }
   ],
   "source": [
    "%%render 3\n",
    "d = h-c_nom\n",
    "z = d - x_approx/3\n",
    "\n",
    "My = ((A_s1 * f_y1 + A_s2 * f_y2)*z).to(ureg.kN*ureg.m)\n",
    "\n",
    "chi = (epsilon_sy /(d-x_approx)).to(1/ureg.m)"
   ]
  }
 ],
 "metadata": {
  "kernelspec": {
   "display_name": "calcs11",
   "language": "python",
   "name": "python3"
  },
  "language_info": {
   "codemirror_mode": {
    "name": "ipython",
    "version": 3
   },
   "file_extension": ".py",
   "mimetype": "text/x-python",
   "name": "python",
   "nbconvert_exporter": "python",
   "pygments_lexer": "ipython3",
   "version": "3.11.7"
  }
 },
 "nbformat": 4,
 "nbformat_minor": 2
}
