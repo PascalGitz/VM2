{
 "cells": [
  {
   "cell_type": "code",
   "execution_count": 1,
   "metadata": {},
   "outputs": [],
   "source": [
    "from natsort import natsorted\n",
    "import glob\n",
    "import pandas as pd\n",
    "\n",
    "folder_path = '../docs/T6_m_chi/M_Phi'\n",
    "file_paths = glob.glob(f'{folder_path}/*.csv')\n",
    "file_paths = natsorted(file_paths)\n",
    "\n",
    "dfs = []\n",
    "for file_path in file_paths:\n",
    "    df = pd.read_csv(file_path, names=['Phi', 'My'], sep=';')\n",
    "    filename = file_path.split('/')[-1]  # Extract the filename from the file path\n",
    "    df.columns.name = filename  # Set the column name as the filename\n",
    "    df = df[df['Phi'] != 0]\n",
    "    df['Phi'] = df['Phi']  # Convert Phi values to mrad\n",
    "    df['My'] = df['My']*1000\n",
    "    df['spring'] = df['My'] / df['Phi'] * 1000\n",
    "\n",
    "    # Es braucht einen Nullpunkt\n",
    "    df_null = pd.DataFrame([[0,0,0]], columns=df.columns)\n",
    "    df = pd.concat([df, df_null], axis=0).sort_values(\"Phi\").reset_index()\n",
    "    \n",
    "    dfs.append(df)\n"
   ]
  },
  {
   "cell_type": "code",
   "execution_count": 4,
   "metadata": {},
   "outputs": [
    {
     "name": "stdout",
     "output_type": "stream",
     "text": [
      "Connecting to server...\n",
      "Deleting results...\n"
     ]
    },
    {
     "ename": "WebFault",
     "evalue": "b\"Server raised fault: 'Objekt: Stab Nr. 137\\nAttribut: Zugewiesen an Linie Nr.\\nFehler: Die Definitionslinie ist nicht zul\\xc3\\xa4ssig.'\"",
     "output_type": "error",
     "traceback": [
      "\u001b[1;31m---------------------------------------------------------------------------\u001b[0m",
      "\u001b[1;31mWebFault\u001b[0m                                  Traceback (most recent call last)",
      "Cell \u001b[1;32mIn[4], line 45\u001b[0m\n\u001b[0;32m     41\u001b[0m     Member(no\u001b[38;5;241m=\u001b[39mj\u001b[38;5;241m+\u001b[39m\u001b[38;5;241m1\u001b[39m, start_node_no\u001b[38;5;241m=\u001b[39mj\u001b[38;5;241m+\u001b[39m\u001b[38;5;241m1\u001b[39m, end_node_no\u001b[38;5;241m=\u001b[39mj\u001b[38;5;241m+\u001b[39m\u001b[38;5;241m2\u001b[39m, start_member_hinge_no\u001b[38;5;241m=\u001b[39mj\u001b[38;5;241m+\u001b[39m\u001b[38;5;241m1\u001b[39m)\n\u001b[0;32m     43\u001b[0m     \u001b[38;5;66;03m# print(f'Diagramm {dfs[j].columns.name}')\u001b[39;00m\n\u001b[1;32m---> 45\u001b[0m \u001b[43mModel\u001b[49m\u001b[38;5;241;43m.\u001b[39;49m\u001b[43mclientModel\u001b[49m\u001b[38;5;241;43m.\u001b[39;49m\u001b[43mservice\u001b[49m\u001b[38;5;241;43m.\u001b[39;49m\u001b[43mfinish_modification\u001b[49m\u001b[43m(\u001b[49m\u001b[43m)\u001b[49m\n",
      "File \u001b[1;32mc:\\Users\\Pascal Gitz\\miniconda3\\envs\\rfem\\Lib\\site-packages\\suds\\client.py:559\u001b[0m, in \u001b[0;36mMethod.__call__\u001b[1;34m(self, *args, **kwargs)\u001b[0m\n\u001b[0;32m    557\u001b[0m         \u001b[38;5;28;01mreturn\u001b[39;00m (\u001b[38;5;241m500\u001b[39m, e)\n\u001b[0;32m    558\u001b[0m \u001b[38;5;28;01melse\u001b[39;00m:\n\u001b[1;32m--> 559\u001b[0m     \u001b[38;5;28;01mreturn\u001b[39;00m \u001b[43mclient\u001b[49m\u001b[38;5;241;43m.\u001b[39;49m\u001b[43minvoke\u001b[49m\u001b[43m(\u001b[49m\u001b[43margs\u001b[49m\u001b[43m,\u001b[49m\u001b[43m \u001b[49m\u001b[43mkwargs\u001b[49m\u001b[43m)\u001b[49m\n",
      "File \u001b[1;32mc:\\Users\\Pascal Gitz\\miniconda3\\envs\\rfem\\Lib\\site-packages\\suds\\client.py:618\u001b[0m, in \u001b[0;36mSoapClient.invoke\u001b[1;34m(self, args, kwargs)\u001b[0m\n\u001b[0;32m    614\u001b[0m metrics\u001b[38;5;241m.\u001b[39mlog\u001b[38;5;241m.\u001b[39mdebug(\u001b[38;5;124m\"\u001b[39m\u001b[38;5;124mmessage for \u001b[39m\u001b[38;5;124m'\u001b[39m\u001b[38;5;132;01m%s\u001b[39;00m\u001b[38;5;124m'\u001b[39m\u001b[38;5;124m created: \u001b[39m\u001b[38;5;132;01m%s\u001b[39;00m\u001b[38;5;124m\"\u001b[39m,\n\u001b[0;32m    615\u001b[0m                   \u001b[38;5;28mself\u001b[39m\u001b[38;5;241m.\u001b[39mmethod\u001b[38;5;241m.\u001b[39mname,\n\u001b[0;32m    616\u001b[0m                   timer)\n\u001b[0;32m    617\u001b[0m timer\u001b[38;5;241m.\u001b[39mstart()\n\u001b[1;32m--> 618\u001b[0m result \u001b[38;5;241m=\u001b[39m \u001b[38;5;28;43mself\u001b[39;49m\u001b[38;5;241;43m.\u001b[39;49m\u001b[43msend\u001b[49m\u001b[43m(\u001b[49m\u001b[43msoapenv\u001b[49m\u001b[43m)\u001b[49m\n\u001b[0;32m    619\u001b[0m timer\u001b[38;5;241m.\u001b[39mstop()\n\u001b[0;32m    620\u001b[0m metrics\u001b[38;5;241m.\u001b[39mlog\u001b[38;5;241m.\u001b[39mdebug(\u001b[38;5;124m\"\u001b[39m\u001b[38;5;124mmethod \u001b[39m\u001b[38;5;124m'\u001b[39m\u001b[38;5;132;01m%s\u001b[39;00m\u001b[38;5;124m'\u001b[39m\u001b[38;5;124m invoked: \u001b[39m\u001b[38;5;132;01m%s\u001b[39;00m\u001b[38;5;124m\"\u001b[39m,\n\u001b[0;32m    621\u001b[0m                   \u001b[38;5;28mself\u001b[39m\u001b[38;5;241m.\u001b[39mmethod\u001b[38;5;241m.\u001b[39mname,\n\u001b[0;32m    622\u001b[0m                   timer)\n",
      "File \u001b[1;32mc:\\Users\\Pascal Gitz\\miniconda3\\envs\\rfem\\Lib\\site-packages\\suds\\client.py:658\u001b[0m, in \u001b[0;36mSoapClient.send\u001b[1;34m(self, soapenv)\u001b[0m\n\u001b[0;32m    656\u001b[0m         result \u001b[38;5;241m=\u001b[39m reply\u001b[38;5;241m.\u001b[39mmessage\n\u001b[0;32m    657\u001b[0m     \u001b[38;5;28;01melse\u001b[39;00m:\n\u001b[1;32m--> 658\u001b[0m         result \u001b[38;5;241m=\u001b[39m \u001b[38;5;28;43mself\u001b[39;49m\u001b[38;5;241;43m.\u001b[39;49m\u001b[43msucceeded\u001b[49m\u001b[43m(\u001b[49m\u001b[43mbinding\u001b[49m\u001b[43m,\u001b[49m\u001b[43m \u001b[49m\u001b[43mreply\u001b[49m\u001b[38;5;241;43m.\u001b[39;49m\u001b[43mmessage\u001b[49m\u001b[43m)\u001b[49m\n\u001b[0;32m    659\u001b[0m \u001b[38;5;28;01mexcept\u001b[39;00m TransportError \u001b[38;5;28;01mas\u001b[39;00m e:\n\u001b[0;32m    660\u001b[0m     \u001b[38;5;28;01mif\u001b[39;00m e\u001b[38;5;241m.\u001b[39mhttpcode \u001b[38;5;129;01min\u001b[39;00m (\u001b[38;5;241m202\u001b[39m, \u001b[38;5;241m204\u001b[39m):\n",
      "File \u001b[1;32mc:\\Users\\Pascal Gitz\\miniconda3\\envs\\rfem\\Lib\\site-packages\\suds\\client.py:696\u001b[0m, in \u001b[0;36mSoapClient.succeeded\u001b[1;34m(self, binding, reply)\u001b[0m\n\u001b[0;32m    694\u001b[0m plugins \u001b[38;5;241m=\u001b[39m PluginContainer(\u001b[38;5;28mself\u001b[39m\u001b[38;5;241m.\u001b[39moptions\u001b[38;5;241m.\u001b[39mplugins)\n\u001b[0;32m    695\u001b[0m \u001b[38;5;28;01mif\u001b[39;00m \u001b[38;5;28mlen\u001b[39m(reply) \u001b[38;5;241m>\u001b[39m \u001b[38;5;241m0\u001b[39m:\n\u001b[1;32m--> 696\u001b[0m     reply, result \u001b[38;5;241m=\u001b[39m \u001b[43mbinding\u001b[49m\u001b[38;5;241;43m.\u001b[39;49m\u001b[43mget_reply\u001b[49m\u001b[43m(\u001b[49m\u001b[38;5;28;43mself\u001b[39;49m\u001b[38;5;241;43m.\u001b[39;49m\u001b[43mmethod\u001b[49m\u001b[43m,\u001b[49m\u001b[43m \u001b[49m\u001b[43mreply\u001b[49m\u001b[43m)\u001b[49m\n\u001b[0;32m    697\u001b[0m     \u001b[38;5;28mself\u001b[39m\u001b[38;5;241m.\u001b[39mlast_received(reply)\n\u001b[0;32m    698\u001b[0m \u001b[38;5;28;01melse\u001b[39;00m:\n",
      "File \u001b[1;32mc:\\Users\\Pascal Gitz\\miniconda3\\envs\\rfem\\Lib\\site-packages\\suds\\bindings\\binding.py:152\u001b[0m, in \u001b[0;36mBinding.get_reply\u001b[1;34m(self, method, reply)\u001b[0m\n\u001b[0;32m    150\u001b[0m soapenv\u001b[38;5;241m.\u001b[39mpromotePrefixes()\n\u001b[0;32m    151\u001b[0m soapbody \u001b[38;5;241m=\u001b[39m soapenv\u001b[38;5;241m.\u001b[39mgetChild(\u001b[38;5;124m'\u001b[39m\u001b[38;5;124mBody\u001b[39m\u001b[38;5;124m'\u001b[39m)\n\u001b[1;32m--> 152\u001b[0m \u001b[38;5;28;43mself\u001b[39;49m\u001b[38;5;241;43m.\u001b[39;49m\u001b[43mdetect_fault\u001b[49m\u001b[43m(\u001b[49m\u001b[43msoapbody\u001b[49m\u001b[43m)\u001b[49m\n\u001b[0;32m    153\u001b[0m soapbody \u001b[38;5;241m=\u001b[39m \u001b[38;5;28mself\u001b[39m\u001b[38;5;241m.\u001b[39mmultiref\u001b[38;5;241m.\u001b[39mprocess(soapbody)\n\u001b[0;32m    154\u001b[0m nodes \u001b[38;5;241m=\u001b[39m \u001b[38;5;28mself\u001b[39m\u001b[38;5;241m.\u001b[39mreplycontent(method, soapbody)\n",
      "File \u001b[1;32mc:\\Users\\Pascal Gitz\\miniconda3\\envs\\rfem\\Lib\\site-packages\\suds\\bindings\\binding.py:183\u001b[0m, in \u001b[0;36mBinding.detect_fault\u001b[1;34m(self, body)\u001b[0m\n\u001b[0;32m    181\u001b[0m p \u001b[38;5;241m=\u001b[39m unmarshaller\u001b[38;5;241m.\u001b[39mprocess(fault)\n\u001b[0;32m    182\u001b[0m \u001b[38;5;28;01mif\u001b[39;00m \u001b[38;5;28mself\u001b[39m\u001b[38;5;241m.\u001b[39moptions()\u001b[38;5;241m.\u001b[39mfaults:\n\u001b[1;32m--> 183\u001b[0m     \u001b[38;5;28;01mraise\u001b[39;00m WebFault(p, fault)\n\u001b[0;32m    184\u001b[0m \u001b[38;5;28;01mreturn\u001b[39;00m \u001b[38;5;28mself\u001b[39m\n",
      "\u001b[1;31mWebFault\u001b[0m: b\"Server raised fault: 'Objekt: Stab Nr. 137\\nAttribut: Zugewiesen an Linie Nr.\\nFehler: Die Definitionslinie ist nicht zul\\xc3\\xa4ssig.'\""
     ]
    }
   ],
   "source": [
    "import os\n",
    "\n",
    "from RFEM.enums import NodalLoadDirection, CaseObjectType, MemberHingeNonlinearity\n",
    "from RFEM.BasicObjects.member import Member\n",
    "from RFEM.BasicObjects.node import Node\n",
    "from RFEM.initModel import Model, Calculate_all\n",
    "from RFEM.Loads.nodalLoad import NodalLoad\n",
    "from RFEM.Results.resultTables import ResultTables\n",
    "from RFEM.TypesForMembers.memberHinge import MemberHinge\n",
    "\n",
    "# Modelinitiierung\n",
    "Model(False, \"T6_drehfedern\", delete=True)\n",
    "Model.clientModel.service.begin_modification()\n",
    "\n",
    "\n",
    "\n",
    "for j, iter in enumerate(dfs):\n",
    "\n",
    "    diagram_around_y_table = Model.clientModel.factory.create('ns0:member_hinge.diagram_around_y_table')\n",
    "\n",
    "    for i in range(len(iter)):\n",
    "        mlvlp = Model.clientModel.factory.create('ns0:member_hinge_diagram_around_y_table_row')\n",
    "        mlvlp.no = i+1\n",
    "        mlvlp.row = Model.clientModel.factory.create('ns0:member_hinge_diagram_around_y_table')\n",
    "        mlvlp.row.rotation = iter['Phi'].iloc[i]\n",
    "        mlvlp.row.moment = iter['My'].iloc[i]\n",
    "        # mlvlp.row.spring = iter['spring'].iloc[i]\n",
    "\n",
    "        diagram_around_y_table.member_hinge_diagram_around_y_table.append(mlvlp)\n",
    "\n",
    "        \n",
    "    Spring_char = MemberHinge(no=j+1, params={\n",
    "        \"diagram_around_y_symmetric\": \"false\",\n",
    "        \"moment_release_my_nonlinearity\":\"NONLINEARITY_TYPE_DIAGRAM\",\n",
    "        \"diagram_around_y_start\": \"DIAGRAM_ENDING_TYPE_YIELDING\",\n",
    "        \"diagram_around_y_end\": \"DIAGRAM_ENDING_TYPE_YIELDING\",    \n",
    "        \"diagram_around_y_table\":diagram_around_y_table,\n",
    "        })\n",
    "    \n",
    "    Node(no=j+1, coordinate_X=j*0.1, coordinate_Y=0, coordinate_Z=0)\n",
    "    Member(no=j+1, start_node_no=j+1, end_node_no=j+2, start_member_hinge_no=j+1)\n",
    "\n",
    "    # print(f'Diagramm {dfs[j].columns.name}')\n",
    "\n",
    "Model.clientModel.service.finish_modification()"
   ]
  },
  {
   "cell_type": "code",
   "execution_count": null,
   "metadata": {},
   "outputs": [],
   "source": []
  },
  {
   "cell_type": "code",
   "execution_count": null,
   "metadata": {},
   "outputs": [],
   "source": [
    "# from suds.client import Client\n",
    "\n",
    "# client = Client('http://localhost:8081/wsdl')\n",
    "# new = client.service.get_active_model()+'wsdl'\n",
    "# model = Client(new)\n",
    "# print(model.service.get_member_hinge(1))\n"
   ]
  }
 ],
 "metadata": {
  "kernelspec": {
   "display_name": "calcs11",
   "language": "python",
   "name": "python3"
  },
  "language_info": {
   "codemirror_mode": {
    "name": "ipython",
    "version": 3
   },
   "file_extension": ".py",
   "mimetype": "text/x-python",
   "name": "python",
   "nbconvert_exporter": "python",
   "pygments_lexer": "ipython3",
   "version": "3.12.3"
  }
 },
 "nbformat": 4,
 "nbformat_minor": 2
}
