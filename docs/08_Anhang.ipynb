{
 "cells": [
  {
   "cell_type": "code",
   "execution_count": 4,
   "metadata": {},
   "outputs": [],
   "source": [
    "from input import *"
   ]
  },
  {
   "cell_type": "markdown",
   "metadata": {
    "vscode": {
     "languageId": "plaintext"
    }
   },
   "source": [
    "# Anhang {.appendix}"
   ]
  },
  {
   "cell_type": "markdown",
   "metadata": {},
   "source": [
    "## Momenten-Krümmungs-Beziehungen {.appendix}\n",
    "\n",
    "Dieses Kapitel zeigt lediglich die einzelnen Querschnitte mit den entsprechenden Parametern und der resultierenden Momenten-Krümmungs-Beziehung.\n"
   ]
  },
  {
   "cell_type": "code",
   "execution_count": 7,
   "metadata": {},
   "outputs": [
    {
     "data": {
      "text/markdown": [
       "![Momenten-Krümmungs-Beziehung des Querschnitt 0](T6_m_chi/qs_0.svg){#fig-qs_0}"
      ],
      "text/plain": [
       "<IPython.core.display.Markdown object>"
      ]
     },
     "metadata": {},
     "output_type": "display_data"
    },
    {
     "data": {
      "text/markdown": [
       "![Momenten-Krümmungs-Beziehung des Querschnitt 0](T6_m_chi/m_chi_0.svg){#fig-m_chi_0}"
      ],
      "text/plain": [
       "<IPython.core.display.Markdown object>"
      ]
     },
     "metadata": {},
     "output_type": "display_data"
    },
    {
     "data": {
      "text/markdown": [
       "![Momenten-Krümmungs-Beziehung des Querschnitt 1](T6_m_chi/qs_1.svg){#fig-qs_1}"
      ],
      "text/plain": [
       "<IPython.core.display.Markdown object>"
      ]
     },
     "metadata": {},
     "output_type": "display_data"
    },
    {
     "data": {
      "text/markdown": [
       "![Momenten-Krümmungs-Beziehung des Querschnitt 1](T6_m_chi/m_chi_1.svg){#fig-m_chi_1}"
      ],
      "text/plain": [
       "<IPython.core.display.Markdown object>"
      ]
     },
     "metadata": {},
     "output_type": "display_data"
    },
    {
     "data": {
      "text/markdown": [
       "![Momenten-Krümmungs-Beziehung des Querschnitt 2](T6_m_chi/qs_2.svg){#fig-qs_2}"
      ],
      "text/plain": [
       "<IPython.core.display.Markdown object>"
      ]
     },
     "metadata": {},
     "output_type": "display_data"
    },
    {
     "data": {
      "text/markdown": [
       "![Momenten-Krümmungs-Beziehung des Querschnitt 2](T6_m_chi/m_chi_2.svg){#fig-m_chi_2}"
      ],
      "text/plain": [
       "<IPython.core.display.Markdown object>"
      ]
     },
     "metadata": {},
     "output_type": "display_data"
    },
    {
     "data": {
      "text/markdown": [
       "![Momenten-Krümmungs-Beziehung des Querschnitt 3](T6_m_chi/qs_3.svg){#fig-qs_3}"
      ],
      "text/plain": [
       "<IPython.core.display.Markdown object>"
      ]
     },
     "metadata": {},
     "output_type": "display_data"
    },
    {
     "data": {
      "text/markdown": [
       "![Momenten-Krümmungs-Beziehung des Querschnitt 3](T6_m_chi/m_chi_3.svg){#fig-m_chi_3}"
      ],
      "text/plain": [
       "<IPython.core.display.Markdown object>"
      ]
     },
     "metadata": {},
     "output_type": "display_data"
    },
    {
     "data": {
      "text/markdown": [
       "![Momenten-Krümmungs-Beziehung des Querschnitt 4](T6_m_chi/qs_4.svg){#fig-qs_4}"
      ],
      "text/plain": [
       "<IPython.core.display.Markdown object>"
      ]
     },
     "metadata": {},
     "output_type": "display_data"
    },
    {
     "data": {
      "text/markdown": [
       "![Momenten-Krümmungs-Beziehung des Querschnitt 4](T6_m_chi/m_chi_4.svg){#fig-m_chi_4}"
      ],
      "text/plain": [
       "<IPython.core.display.Markdown object>"
      ]
     },
     "metadata": {},
     "output_type": "display_data"
    },
    {
     "data": {
      "text/markdown": [
       "![Momenten-Krümmungs-Beziehung des Querschnitt 5](T6_m_chi/qs_5.svg){#fig-qs_5}"
      ],
      "text/plain": [
       "<IPython.core.display.Markdown object>"
      ]
     },
     "metadata": {},
     "output_type": "display_data"
    },
    {
     "data": {
      "text/markdown": [
       "![Momenten-Krümmungs-Beziehung des Querschnitt 5](T6_m_chi/m_chi_5.svg){#fig-m_chi_5}"
      ],
      "text/plain": [
       "<IPython.core.display.Markdown object>"
      ]
     },
     "metadata": {},
     "output_type": "display_data"
    },
    {
     "data": {
      "text/markdown": [
       "![Momenten-Krümmungs-Beziehung des Querschnitt 6](T6_m_chi/qs_6.svg){#fig-qs_6}"
      ],
      "text/plain": [
       "<IPython.core.display.Markdown object>"
      ]
     },
     "metadata": {},
     "output_type": "display_data"
    },
    {
     "data": {
      "text/markdown": [
       "![Momenten-Krümmungs-Beziehung des Querschnitt 6](T6_m_chi/m_chi_6.svg){#fig-m_chi_6}"
      ],
      "text/plain": [
       "<IPython.core.display.Markdown object>"
      ]
     },
     "metadata": {},
     "output_type": "display_data"
    },
    {
     "data": {
      "text/markdown": [
       "![Momenten-Krümmungs-Beziehung des Querschnitt 7](T6_m_chi/qs_7.svg){#fig-qs_7}"
      ],
      "text/plain": [
       "<IPython.core.display.Markdown object>"
      ]
     },
     "metadata": {},
     "output_type": "display_data"
    },
    {
     "data": {
      "text/markdown": [
       "![Momenten-Krümmungs-Beziehung des Querschnitt 7](T6_m_chi/m_chi_7.svg){#fig-m_chi_7}"
      ],
      "text/plain": [
       "<IPython.core.display.Markdown object>"
      ]
     },
     "metadata": {},
     "output_type": "display_data"
    },
    {
     "data": {
      "text/markdown": [
       "![Momenten-Krümmungs-Beziehung des Querschnitt 8](T6_m_chi/qs_8.svg){#fig-qs_8}"
      ],
      "text/plain": [
       "<IPython.core.display.Markdown object>"
      ]
     },
     "metadata": {},
     "output_type": "display_data"
    },
    {
     "data": {
      "text/markdown": [
       "![Momenten-Krümmungs-Beziehung des Querschnitt 8](T6_m_chi/m_chi_8.svg){#fig-m_chi_8}"
      ],
      "text/plain": [
       "<IPython.core.display.Markdown object>"
      ]
     },
     "metadata": {},
     "output_type": "display_data"
    },
    {
     "data": {
      "text/markdown": [
       "![Momenten-Krümmungs-Beziehung des Querschnitt 9](T6_m_chi/qs_9.svg){#fig-qs_9}"
      ],
      "text/plain": [
       "<IPython.core.display.Markdown object>"
      ]
     },
     "metadata": {},
     "output_type": "display_data"
    },
    {
     "data": {
      "text/markdown": [
       "![Momenten-Krümmungs-Beziehung des Querschnitt 9](T6_m_chi/m_chi_9.svg){#fig-m_chi_9}"
      ],
      "text/plain": [
       "<IPython.core.display.Markdown object>"
      ]
     },
     "metadata": {},
     "output_type": "display_data"
    },
    {
     "data": {
      "text/markdown": [
       "![Momenten-Krümmungs-Beziehung des Querschnitt 10](T6_m_chi/qs_10.svg){#fig-qs_10}"
      ],
      "text/plain": [
       "<IPython.core.display.Markdown object>"
      ]
     },
     "metadata": {},
     "output_type": "display_data"
    },
    {
     "data": {
      "text/markdown": [
       "![Momenten-Krümmungs-Beziehung des Querschnitt 10](T6_m_chi/m_chi_10.svg){#fig-m_chi_10}"
      ],
      "text/plain": [
       "<IPython.core.display.Markdown object>"
      ]
     },
     "metadata": {},
     "output_type": "display_data"
    },
    {
     "data": {
      "text/markdown": [
       "![Momenten-Krümmungs-Beziehung des Querschnitt 11](T6_m_chi/qs_11.svg){#fig-qs_11}"
      ],
      "text/plain": [
       "<IPython.core.display.Markdown object>"
      ]
     },
     "metadata": {},
     "output_type": "display_data"
    },
    {
     "data": {
      "text/markdown": [
       "![Momenten-Krümmungs-Beziehung des Querschnitt 11](T6_m_chi/m_chi_11.svg){#fig-m_chi_11}"
      ],
      "text/plain": [
       "<IPython.core.display.Markdown object>"
      ]
     },
     "metadata": {},
     "output_type": "display_data"
    },
    {
     "data": {
      "text/markdown": [
       "![Momenten-Krümmungs-Beziehung des Querschnitt 12](T6_m_chi/qs_12.svg){#fig-qs_12}"
      ],
      "text/plain": [
       "<IPython.core.display.Markdown object>"
      ]
     },
     "metadata": {},
     "output_type": "display_data"
    },
    {
     "data": {
      "text/markdown": [
       "![Momenten-Krümmungs-Beziehung des Querschnitt 12](T6_m_chi/m_chi_12.svg){#fig-m_chi_12}"
      ],
      "text/plain": [
       "<IPython.core.display.Markdown object>"
      ]
     },
     "metadata": {},
     "output_type": "display_data"
    },
    {
     "data": {
      "text/markdown": [
       "![Momenten-Krümmungs-Beziehung des Querschnitt 13](T6_m_chi/qs_13.svg){#fig-qs_13}"
      ],
      "text/plain": [
       "<IPython.core.display.Markdown object>"
      ]
     },
     "metadata": {},
     "output_type": "display_data"
    },
    {
     "data": {
      "text/markdown": [
       "![Momenten-Krümmungs-Beziehung des Querschnitt 13](T6_m_chi/m_chi_13.svg){#fig-m_chi_13}"
      ],
      "text/plain": [
       "<IPython.core.display.Markdown object>"
      ]
     },
     "metadata": {},
     "output_type": "display_data"
    },
    {
     "data": {
      "text/markdown": [
       "![Momenten-Krümmungs-Beziehung des Querschnitt 14](T6_m_chi/qs_14.svg){#fig-qs_14}"
      ],
      "text/plain": [
       "<IPython.core.display.Markdown object>"
      ]
     },
     "metadata": {},
     "output_type": "display_data"
    },
    {
     "data": {
      "text/markdown": [
       "![Momenten-Krümmungs-Beziehung des Querschnitt 14](T6_m_chi/m_chi_14.svg){#fig-m_chi_14}"
      ],
      "text/plain": [
       "<IPython.core.display.Markdown object>"
      ]
     },
     "metadata": {},
     "output_type": "display_data"
    },
    {
     "data": {
      "text/markdown": [
       "![Momenten-Krümmungs-Beziehung des Querschnitt 15](T6_m_chi/qs_15.svg){#fig-qs_15}"
      ],
      "text/plain": [
       "<IPython.core.display.Markdown object>"
      ]
     },
     "metadata": {},
     "output_type": "display_data"
    },
    {
     "data": {
      "text/markdown": [
       "![Momenten-Krümmungs-Beziehung des Querschnitt 15](T6_m_chi/m_chi_15.svg){#fig-m_chi_15}"
      ],
      "text/plain": [
       "<IPython.core.display.Markdown object>"
      ]
     },
     "metadata": {},
     "output_type": "display_data"
    },
    {
     "data": {
      "text/markdown": [
       "![Momenten-Krümmungs-Beziehung des Querschnitt 16](T6_m_chi/qs_16.svg){#fig-qs_16}"
      ],
      "text/plain": [
       "<IPython.core.display.Markdown object>"
      ]
     },
     "metadata": {},
     "output_type": "display_data"
    },
    {
     "data": {
      "text/markdown": [
       "![Momenten-Krümmungs-Beziehung des Querschnitt 16](T6_m_chi/m_chi_16.svg){#fig-m_chi_16}"
      ],
      "text/plain": [
       "<IPython.core.display.Markdown object>"
      ]
     },
     "metadata": {},
     "output_type": "display_data"
    },
    {
     "data": {
      "text/markdown": [
       "![Momenten-Krümmungs-Beziehung des Querschnitt 17](T6_m_chi/qs_17.svg){#fig-qs_17}"
      ],
      "text/plain": [
       "<IPython.core.display.Markdown object>"
      ]
     },
     "metadata": {},
     "output_type": "display_data"
    },
    {
     "data": {
      "text/markdown": [
       "![Momenten-Krümmungs-Beziehung des Querschnitt 17](T6_m_chi/m_chi_17.svg){#fig-m_chi_17}"
      ],
      "text/plain": [
       "<IPython.core.display.Markdown object>"
      ]
     },
     "metadata": {},
     "output_type": "display_data"
    },
    {
     "data": {
      "text/markdown": [
       "![Momenten-Krümmungs-Beziehung des Querschnitt 18](T6_m_chi/qs_18.svg){#fig-qs_18}"
      ],
      "text/plain": [
       "<IPython.core.display.Markdown object>"
      ]
     },
     "metadata": {},
     "output_type": "display_data"
    },
    {
     "data": {
      "text/markdown": [
       "![Momenten-Krümmungs-Beziehung des Querschnitt 18](T6_m_chi/m_chi_18.svg){#fig-m_chi_18}"
      ],
      "text/plain": [
       "<IPython.core.display.Markdown object>"
      ]
     },
     "metadata": {},
     "output_type": "display_data"
    },
    {
     "data": {
      "text/markdown": [
       "![Momenten-Krümmungs-Beziehung des Querschnitt 19](T6_m_chi/qs_19.svg){#fig-qs_19}"
      ],
      "text/plain": [
       "<IPython.core.display.Markdown object>"
      ]
     },
     "metadata": {},
     "output_type": "display_data"
    },
    {
     "data": {
      "text/markdown": [
       "![Momenten-Krümmungs-Beziehung des Querschnitt 19](T6_m_chi/m_chi_19.svg){#fig-m_chi_19}"
      ],
      "text/plain": [
       "<IPython.core.display.Markdown object>"
      ]
     },
     "metadata": {},
     "output_type": "display_data"
    },
    {
     "data": {
      "text/markdown": [
       "![Momenten-Krümmungs-Beziehung des Querschnitt 20](T6_m_chi/qs_20.svg){#fig-qs_20}"
      ],
      "text/plain": [
       "<IPython.core.display.Markdown object>"
      ]
     },
     "metadata": {},
     "output_type": "display_data"
    },
    {
     "data": {
      "text/markdown": [
       "![Momenten-Krümmungs-Beziehung des Querschnitt 20](T6_m_chi/m_chi_20.svg){#fig-m_chi_20}"
      ],
      "text/plain": [
       "<IPython.core.display.Markdown object>"
      ]
     },
     "metadata": {},
     "output_type": "display_data"
    },
    {
     "data": {
      "text/markdown": [
       "![Momenten-Krümmungs-Beziehung des Querschnitt 21](T6_m_chi/qs_21.svg){#fig-qs_21}"
      ],
      "text/plain": [
       "<IPython.core.display.Markdown object>"
      ]
     },
     "metadata": {},
     "output_type": "display_data"
    },
    {
     "data": {
      "text/markdown": [
       "![Momenten-Krümmungs-Beziehung des Querschnitt 21](T6_m_chi/m_chi_21.svg){#fig-m_chi_21}"
      ],
      "text/plain": [
       "<IPython.core.display.Markdown object>"
      ]
     },
     "metadata": {},
     "output_type": "display_data"
    },
    {
     "data": {
      "text/markdown": [
       "![Momenten-Krümmungs-Beziehung des Querschnitt 22](T6_m_chi/qs_22.svg){#fig-qs_22}"
      ],
      "text/plain": [
       "<IPython.core.display.Markdown object>"
      ]
     },
     "metadata": {},
     "output_type": "display_data"
    },
    {
     "data": {
      "text/markdown": [
       "![Momenten-Krümmungs-Beziehung des Querschnitt 22](T6_m_chi/m_chi_22.svg){#fig-m_chi_22}"
      ],
      "text/plain": [
       "<IPython.core.display.Markdown object>"
      ]
     },
     "metadata": {},
     "output_type": "display_data"
    },
    {
     "data": {
      "text/markdown": [
       "![Momenten-Krümmungs-Beziehung des Querschnitt 23](T6_m_chi/qs_23.svg){#fig-qs_23}"
      ],
      "text/plain": [
       "<IPython.core.display.Markdown object>"
      ]
     },
     "metadata": {},
     "output_type": "display_data"
    },
    {
     "data": {
      "text/markdown": [
       "![Momenten-Krümmungs-Beziehung des Querschnitt 23](T6_m_chi/m_chi_23.svg){#fig-m_chi_23}"
      ],
      "text/plain": [
       "<IPython.core.display.Markdown object>"
      ]
     },
     "metadata": {},
     "output_type": "display_data"
    },
    {
     "data": {
      "text/markdown": [
       "![Momenten-Krümmungs-Beziehung des Querschnitt 24](T6_m_chi/qs_24.svg){#fig-qs_24}"
      ],
      "text/plain": [
       "<IPython.core.display.Markdown object>"
      ]
     },
     "metadata": {},
     "output_type": "display_data"
    },
    {
     "data": {
      "text/markdown": [
       "![Momenten-Krümmungs-Beziehung des Querschnitt 24](T6_m_chi/m_chi_24.svg){#fig-m_chi_24}"
      ],
      "text/plain": [
       "<IPython.core.display.Markdown object>"
      ]
     },
     "metadata": {},
     "output_type": "display_data"
    },
    {
     "data": {
      "text/markdown": [
       "![Momenten-Krümmungs-Beziehung des Querschnitt 25](T6_m_chi/qs_25.svg){#fig-qs_25}"
      ],
      "text/plain": [
       "<IPython.core.display.Markdown object>"
      ]
     },
     "metadata": {},
     "output_type": "display_data"
    },
    {
     "data": {
      "text/markdown": [
       "![Momenten-Krümmungs-Beziehung des Querschnitt 25](T6_m_chi/m_chi_25.svg){#fig-m_chi_25}"
      ],
      "text/plain": [
       "<IPython.core.display.Markdown object>"
      ]
     },
     "metadata": {},
     "output_type": "display_data"
    },
    {
     "data": {
      "text/markdown": [
       "![Momenten-Krümmungs-Beziehung des Querschnitt 26](T6_m_chi/qs_26.svg){#fig-qs_26}"
      ],
      "text/plain": [
       "<IPython.core.display.Markdown object>"
      ]
     },
     "metadata": {},
     "output_type": "display_data"
    },
    {
     "data": {
      "text/markdown": [
       "![Momenten-Krümmungs-Beziehung des Querschnitt 26](T6_m_chi/m_chi_26.svg){#fig-m_chi_26}"
      ],
      "text/plain": [
       "<IPython.core.display.Markdown object>"
      ]
     },
     "metadata": {},
     "output_type": "display_data"
    },
    {
     "data": {
      "text/markdown": [
       "![Momenten-Krümmungs-Beziehung des Querschnitt 27](T6_m_chi/qs_27.svg){#fig-qs_27}"
      ],
      "text/plain": [
       "<IPython.core.display.Markdown object>"
      ]
     },
     "metadata": {},
     "output_type": "display_data"
    },
    {
     "data": {
      "text/markdown": [
       "![Momenten-Krümmungs-Beziehung des Querschnitt 27](T6_m_chi/m_chi_27.svg){#fig-m_chi_27}"
      ],
      "text/plain": [
       "<IPython.core.display.Markdown object>"
      ]
     },
     "metadata": {},
     "output_type": "display_data"
    },
    {
     "data": {
      "text/markdown": [
       "![Momenten-Krümmungs-Beziehung des Querschnitt 28](T6_m_chi/qs_28.svg){#fig-qs_28}"
      ],
      "text/plain": [
       "<IPython.core.display.Markdown object>"
      ]
     },
     "metadata": {},
     "output_type": "display_data"
    },
    {
     "data": {
      "text/markdown": [
       "![Momenten-Krümmungs-Beziehung des Querschnitt 28](T6_m_chi/m_chi_28.svg){#fig-m_chi_28}"
      ],
      "text/plain": [
       "<IPython.core.display.Markdown object>"
      ]
     },
     "metadata": {},
     "output_type": "display_data"
    },
    {
     "data": {
      "text/markdown": [
       "![Momenten-Krümmungs-Beziehung des Querschnitt 29](T6_m_chi/qs_29.svg){#fig-qs_29}"
      ],
      "text/plain": [
       "<IPython.core.display.Markdown object>"
      ]
     },
     "metadata": {},
     "output_type": "display_data"
    },
    {
     "data": {
      "text/markdown": [
       "![Momenten-Krümmungs-Beziehung des Querschnitt 29](T6_m_chi/m_chi_29.svg){#fig-m_chi_29}"
      ],
      "text/plain": [
       "<IPython.core.display.Markdown object>"
      ]
     },
     "metadata": {},
     "output_type": "display_data"
    },
    {
     "data": {
      "text/markdown": [
       "![Momenten-Krümmungs-Beziehung des Querschnitt 30](T6_m_chi/qs_30.svg){#fig-qs_30}"
      ],
      "text/plain": [
       "<IPython.core.display.Markdown object>"
      ]
     },
     "metadata": {},
     "output_type": "display_data"
    },
    {
     "data": {
      "text/markdown": [
       "![Momenten-Krümmungs-Beziehung des Querschnitt 30](T6_m_chi/m_chi_30.svg){#fig-m_chi_30}"
      ],
      "text/plain": [
       "<IPython.core.display.Markdown object>"
      ]
     },
     "metadata": {},
     "output_type": "display_data"
    },
    {
     "data": {
      "text/markdown": [
       "![Momenten-Krümmungs-Beziehung des Querschnitt 31](T6_m_chi/qs_31.svg){#fig-qs_31}"
      ],
      "text/plain": [
       "<IPython.core.display.Markdown object>"
      ]
     },
     "metadata": {},
     "output_type": "display_data"
    },
    {
     "data": {
      "text/markdown": [
       "![Momenten-Krümmungs-Beziehung des Querschnitt 31](T6_m_chi/m_chi_31.svg){#fig-m_chi_31}"
      ],
      "text/plain": [
       "<IPython.core.display.Markdown object>"
      ]
     },
     "metadata": {},
     "output_type": "display_data"
    },
    {
     "data": {
      "text/markdown": [
       "![Momenten-Krümmungs-Beziehung des Querschnitt 32](T6_m_chi/qs_32.svg){#fig-qs_32}"
      ],
      "text/plain": [
       "<IPython.core.display.Markdown object>"
      ]
     },
     "metadata": {},
     "output_type": "display_data"
    },
    {
     "data": {
      "text/markdown": [
       "![Momenten-Krümmungs-Beziehung des Querschnitt 32](T6_m_chi/m_chi_32.svg){#fig-m_chi_32}"
      ],
      "text/plain": [
       "<IPython.core.display.Markdown object>"
      ]
     },
     "metadata": {},
     "output_type": "display_data"
    },
    {
     "data": {
      "text/markdown": [
       "![Momenten-Krümmungs-Beziehung des Querschnitt 33](T6_m_chi/qs_33.svg){#fig-qs_33}"
      ],
      "text/plain": [
       "<IPython.core.display.Markdown object>"
      ]
     },
     "metadata": {},
     "output_type": "display_data"
    },
    {
     "data": {
      "text/markdown": [
       "![Momenten-Krümmungs-Beziehung des Querschnitt 33](T6_m_chi/m_chi_33.svg){#fig-m_chi_33}"
      ],
      "text/plain": [
       "<IPython.core.display.Markdown object>"
      ]
     },
     "metadata": {},
     "output_type": "display_data"
    },
    {
     "data": {
      "text/markdown": [
       "![Momenten-Krümmungs-Beziehung des Querschnitt 34](T6_m_chi/qs_34.svg){#fig-qs_34}"
      ],
      "text/plain": [
       "<IPython.core.display.Markdown object>"
      ]
     },
     "metadata": {},
     "output_type": "display_data"
    },
    {
     "data": {
      "text/markdown": [
       "![Momenten-Krümmungs-Beziehung des Querschnitt 34](T6_m_chi/m_chi_34.svg){#fig-m_chi_34}"
      ],
      "text/plain": [
       "<IPython.core.display.Markdown object>"
      ]
     },
     "metadata": {},
     "output_type": "display_data"
    },
    {
     "data": {
      "text/markdown": [
       "![Momenten-Krümmungs-Beziehung des Querschnitt 35](T6_m_chi/qs_35.svg){#fig-qs_35}"
      ],
      "text/plain": [
       "<IPython.core.display.Markdown object>"
      ]
     },
     "metadata": {},
     "output_type": "display_data"
    },
    {
     "data": {
      "text/markdown": [
       "![Momenten-Krümmungs-Beziehung des Querschnitt 35](T6_m_chi/m_chi_35.svg){#fig-m_chi_35}"
      ],
      "text/plain": [
       "<IPython.core.display.Markdown object>"
      ]
     },
     "metadata": {},
     "output_type": "display_data"
    },
    {
     "data": {
      "text/markdown": [
       "![Momenten-Krümmungs-Beziehung des Querschnitt 36](T6_m_chi/qs_36.svg){#fig-qs_36}"
      ],
      "text/plain": [
       "<IPython.core.display.Markdown object>"
      ]
     },
     "metadata": {},
     "output_type": "display_data"
    },
    {
     "data": {
      "text/markdown": [
       "![Momenten-Krümmungs-Beziehung des Querschnitt 36](T6_m_chi/m_chi_36.svg){#fig-m_chi_36}"
      ],
      "text/plain": [
       "<IPython.core.display.Markdown object>"
      ]
     },
     "metadata": {},
     "output_type": "display_data"
    },
    {
     "data": {
      "text/markdown": [
       "![Momenten-Krümmungs-Beziehung des Querschnitt 37](T6_m_chi/qs_37.svg){#fig-qs_37}"
      ],
      "text/plain": [
       "<IPython.core.display.Markdown object>"
      ]
     },
     "metadata": {},
     "output_type": "display_data"
    },
    {
     "data": {
      "text/markdown": [
       "![Momenten-Krümmungs-Beziehung des Querschnitt 37](T6_m_chi/m_chi_37.svg){#fig-m_chi_37}"
      ],
      "text/plain": [
       "<IPython.core.display.Markdown object>"
      ]
     },
     "metadata": {},
     "output_type": "display_data"
    },
    {
     "data": {
      "text/markdown": [
       "![Momenten-Krümmungs-Beziehung des Querschnitt 38](T6_m_chi/qs_38.svg){#fig-qs_38}"
      ],
      "text/plain": [
       "<IPython.core.display.Markdown object>"
      ]
     },
     "metadata": {},
     "output_type": "display_data"
    },
    {
     "data": {
      "text/markdown": [
       "![Momenten-Krümmungs-Beziehung des Querschnitt 38](T6_m_chi/m_chi_38.svg){#fig-m_chi_38}"
      ],
      "text/plain": [
       "<IPython.core.display.Markdown object>"
      ]
     },
     "metadata": {},
     "output_type": "display_data"
    },
    {
     "data": {
      "text/markdown": [
       "![Momenten-Krümmungs-Beziehung des Querschnitt 39](T6_m_chi/qs_39.svg){#fig-qs_39}"
      ],
      "text/plain": [
       "<IPython.core.display.Markdown object>"
      ]
     },
     "metadata": {},
     "output_type": "display_data"
    },
    {
     "data": {
      "text/markdown": [
       "![Momenten-Krümmungs-Beziehung des Querschnitt 39](T6_m_chi/m_chi_39.svg){#fig-m_chi_39}"
      ],
      "text/plain": [
       "<IPython.core.display.Markdown object>"
      ]
     },
     "metadata": {},
     "output_type": "display_data"
    },
    {
     "data": {
      "text/markdown": [
       "![Momenten-Krümmungs-Beziehung des Querschnitt 40](T6_m_chi/qs_40.svg){#fig-qs_40}"
      ],
      "text/plain": [
       "<IPython.core.display.Markdown object>"
      ]
     },
     "metadata": {},
     "output_type": "display_data"
    },
    {
     "data": {
      "text/markdown": [
       "![Momenten-Krümmungs-Beziehung des Querschnitt 40](T6_m_chi/m_chi_40.svg){#fig-m_chi_40}"
      ],
      "text/plain": [
       "<IPython.core.display.Markdown object>"
      ]
     },
     "metadata": {},
     "output_type": "display_data"
    },
    {
     "data": {
      "text/markdown": [
       "![Momenten-Krümmungs-Beziehung des Querschnitt 41](T6_m_chi/qs_41.svg){#fig-qs_41}"
      ],
      "text/plain": [
       "<IPython.core.display.Markdown object>"
      ]
     },
     "metadata": {},
     "output_type": "display_data"
    },
    {
     "data": {
      "text/markdown": [
       "![Momenten-Krümmungs-Beziehung des Querschnitt 41](T6_m_chi/m_chi_41.svg){#fig-m_chi_41}"
      ],
      "text/plain": [
       "<IPython.core.display.Markdown object>"
      ]
     },
     "metadata": {},
     "output_type": "display_data"
    },
    {
     "data": {
      "text/markdown": [
       "![Momenten-Krümmungs-Beziehung des Querschnitt 42](T6_m_chi/qs_42.svg){#fig-qs_42}"
      ],
      "text/plain": [
       "<IPython.core.display.Markdown object>"
      ]
     },
     "metadata": {},
     "output_type": "display_data"
    },
    {
     "data": {
      "text/markdown": [
       "![Momenten-Krümmungs-Beziehung des Querschnitt 42](T6_m_chi/m_chi_42.svg){#fig-m_chi_42}"
      ],
      "text/plain": [
       "<IPython.core.display.Markdown object>"
      ]
     },
     "metadata": {},
     "output_type": "display_data"
    },
    {
     "data": {
      "text/markdown": [
       "![Momenten-Krümmungs-Beziehung des Querschnitt 43](T6_m_chi/qs_43.svg){#fig-qs_43}"
      ],
      "text/plain": [
       "<IPython.core.display.Markdown object>"
      ]
     },
     "metadata": {},
     "output_type": "display_data"
    },
    {
     "data": {
      "text/markdown": [
       "![Momenten-Krümmungs-Beziehung des Querschnitt 43](T6_m_chi/m_chi_43.svg){#fig-m_chi_43}"
      ],
      "text/plain": [
       "<IPython.core.display.Markdown object>"
      ]
     },
     "metadata": {},
     "output_type": "display_data"
    },
    {
     "data": {
      "text/markdown": [
       "![Momenten-Krümmungs-Beziehung des Querschnitt 44](T6_m_chi/qs_44.svg){#fig-qs_44}"
      ],
      "text/plain": [
       "<IPython.core.display.Markdown object>"
      ]
     },
     "metadata": {},
     "output_type": "display_data"
    },
    {
     "data": {
      "text/markdown": [
       "![Momenten-Krümmungs-Beziehung des Querschnitt 44](T6_m_chi/m_chi_44.svg){#fig-m_chi_44}"
      ],
      "text/plain": [
       "<IPython.core.display.Markdown object>"
      ]
     },
     "metadata": {},
     "output_type": "display_data"
    },
    {
     "data": {
      "text/markdown": [
       "![Momenten-Krümmungs-Beziehung des Querschnitt 45](T6_m_chi/qs_45.svg){#fig-qs_45}"
      ],
      "text/plain": [
       "<IPython.core.display.Markdown object>"
      ]
     },
     "metadata": {},
     "output_type": "display_data"
    },
    {
     "data": {
      "text/markdown": [
       "![Momenten-Krümmungs-Beziehung des Querschnitt 45](T6_m_chi/m_chi_45.svg){#fig-m_chi_45}"
      ],
      "text/plain": [
       "<IPython.core.display.Markdown object>"
      ]
     },
     "metadata": {},
     "output_type": "display_data"
    },
    {
     "data": {
      "text/markdown": [
       "![Momenten-Krümmungs-Beziehung des Querschnitt 46](T6_m_chi/qs_46.svg){#fig-qs_46}"
      ],
      "text/plain": [
       "<IPython.core.display.Markdown object>"
      ]
     },
     "metadata": {},
     "output_type": "display_data"
    },
    {
     "data": {
      "text/markdown": [
       "![Momenten-Krümmungs-Beziehung des Querschnitt 46](T6_m_chi/m_chi_46.svg){#fig-m_chi_46}"
      ],
      "text/plain": [
       "<IPython.core.display.Markdown object>"
      ]
     },
     "metadata": {},
     "output_type": "display_data"
    },
    {
     "data": {
      "text/markdown": [
       "![Momenten-Krümmungs-Beziehung des Querschnitt 47](T6_m_chi/qs_47.svg){#fig-qs_47}"
      ],
      "text/plain": [
       "<IPython.core.display.Markdown object>"
      ]
     },
     "metadata": {},
     "output_type": "display_data"
    },
    {
     "data": {
      "text/markdown": [
       "![Momenten-Krümmungs-Beziehung des Querschnitt 47](T6_m_chi/m_chi_47.svg){#fig-m_chi_47}"
      ],
      "text/plain": [
       "<IPython.core.display.Markdown object>"
      ]
     },
     "metadata": {},
     "output_type": "display_data"
    },
    {
     "data": {
      "text/markdown": [
       "![Momenten-Krümmungs-Beziehung des Querschnitt 48](T6_m_chi/qs_48.svg){#fig-qs_48}"
      ],
      "text/plain": [
       "<IPython.core.display.Markdown object>"
      ]
     },
     "metadata": {},
     "output_type": "display_data"
    },
    {
     "data": {
      "text/markdown": [
       "![Momenten-Krümmungs-Beziehung des Querschnitt 48](T6_m_chi/m_chi_48.svg){#fig-m_chi_48}"
      ],
      "text/plain": [
       "<IPython.core.display.Markdown object>"
      ]
     },
     "metadata": {},
     "output_type": "display_data"
    },
    {
     "data": {
      "text/markdown": [
       "![Momenten-Krümmungs-Beziehung des Querschnitt 49](T6_m_chi/qs_49.svg){#fig-qs_49}"
      ],
      "text/plain": [
       "<IPython.core.display.Markdown object>"
      ]
     },
     "metadata": {},
     "output_type": "display_data"
    },
    {
     "data": {
      "text/markdown": [
       "![Momenten-Krümmungs-Beziehung des Querschnitt 49](T6_m_chi/m_chi_49.svg){#fig-m_chi_49}"
      ],
      "text/plain": [
       "<IPython.core.display.Markdown object>"
      ]
     },
     "metadata": {},
     "output_type": "display_data"
    },
    {
     "data": {
      "text/markdown": [
       "![Momenten-Krümmungs-Beziehung des Querschnitt 50](T6_m_chi/qs_50.svg){#fig-qs_50}"
      ],
      "text/plain": [
       "<IPython.core.display.Markdown object>"
      ]
     },
     "metadata": {},
     "output_type": "display_data"
    },
    {
     "data": {
      "text/markdown": [
       "![Momenten-Krümmungs-Beziehung des Querschnitt 50](T6_m_chi/m_chi_50.svg){#fig-m_chi_50}"
      ],
      "text/plain": [
       "<IPython.core.display.Markdown object>"
      ]
     },
     "metadata": {},
     "output_type": "display_data"
    },
    {
     "data": {
      "text/markdown": [
       "![Momenten-Krümmungs-Beziehung des Querschnitt 51](T6_m_chi/qs_51.svg){#fig-qs_51}"
      ],
      "text/plain": [
       "<IPython.core.display.Markdown object>"
      ]
     },
     "metadata": {},
     "output_type": "display_data"
    },
    {
     "data": {
      "text/markdown": [
       "![Momenten-Krümmungs-Beziehung des Querschnitt 51](T6_m_chi/m_chi_51.svg){#fig-m_chi_51}"
      ],
      "text/plain": [
       "<IPython.core.display.Markdown object>"
      ]
     },
     "metadata": {},
     "output_type": "display_data"
    },
    {
     "data": {
      "text/markdown": [
       "![Momenten-Krümmungs-Beziehung des Querschnitt 52](T6_m_chi/qs_52.svg){#fig-qs_52}"
      ],
      "text/plain": [
       "<IPython.core.display.Markdown object>"
      ]
     },
     "metadata": {},
     "output_type": "display_data"
    },
    {
     "data": {
      "text/markdown": [
       "![Momenten-Krümmungs-Beziehung des Querschnitt 52](T6_m_chi/m_chi_52.svg){#fig-m_chi_52}"
      ],
      "text/plain": [
       "<IPython.core.display.Markdown object>"
      ]
     },
     "metadata": {},
     "output_type": "display_data"
    },
    {
     "data": {
      "text/markdown": [
       "![Momenten-Krümmungs-Beziehung des Querschnitt 53](T6_m_chi/qs_53.svg){#fig-qs_53}"
      ],
      "text/plain": [
       "<IPython.core.display.Markdown object>"
      ]
     },
     "metadata": {},
     "output_type": "display_data"
    },
    {
     "data": {
      "text/markdown": [
       "![Momenten-Krümmungs-Beziehung des Querschnitt 53](T6_m_chi/m_chi_53.svg){#fig-m_chi_53}"
      ],
      "text/plain": [
       "<IPython.core.display.Markdown object>"
      ]
     },
     "metadata": {},
     "output_type": "display_data"
    },
    {
     "data": {
      "text/markdown": [
       "![Momenten-Krümmungs-Beziehung des Querschnitt 54](T6_m_chi/qs_54.svg){#fig-qs_54}"
      ],
      "text/plain": [
       "<IPython.core.display.Markdown object>"
      ]
     },
     "metadata": {},
     "output_type": "display_data"
    },
    {
     "data": {
      "text/markdown": [
       "![Momenten-Krümmungs-Beziehung des Querschnitt 54](T6_m_chi/m_chi_54.svg){#fig-m_chi_54}"
      ],
      "text/plain": [
       "<IPython.core.display.Markdown object>"
      ]
     },
     "metadata": {},
     "output_type": "display_data"
    },
    {
     "data": {
      "text/markdown": [
       "![Momenten-Krümmungs-Beziehung des Querschnitt 55](T6_m_chi/qs_55.svg){#fig-qs_55}"
      ],
      "text/plain": [
       "<IPython.core.display.Markdown object>"
      ]
     },
     "metadata": {},
     "output_type": "display_data"
    },
    {
     "data": {
      "text/markdown": [
       "![Momenten-Krümmungs-Beziehung des Querschnitt 55](T6_m_chi/m_chi_55.svg){#fig-m_chi_55}"
      ],
      "text/plain": [
       "<IPython.core.display.Markdown object>"
      ]
     },
     "metadata": {},
     "output_type": "display_data"
    },
    {
     "data": {
      "text/markdown": [
       "![Momenten-Krümmungs-Beziehung des Querschnitt 56](T6_m_chi/qs_56.svg){#fig-qs_56}"
      ],
      "text/plain": [
       "<IPython.core.display.Markdown object>"
      ]
     },
     "metadata": {},
     "output_type": "display_data"
    },
    {
     "data": {
      "text/markdown": [
       "![Momenten-Krümmungs-Beziehung des Querschnitt 56](T6_m_chi/m_chi_56.svg){#fig-m_chi_56}"
      ],
      "text/plain": [
       "<IPython.core.display.Markdown object>"
      ]
     },
     "metadata": {},
     "output_type": "display_data"
    },
    {
     "data": {
      "text/markdown": [
       "![Momenten-Krümmungs-Beziehung des Querschnitt 57](T6_m_chi/qs_57.svg){#fig-qs_57}"
      ],
      "text/plain": [
       "<IPython.core.display.Markdown object>"
      ]
     },
     "metadata": {},
     "output_type": "display_data"
    },
    {
     "data": {
      "text/markdown": [
       "![Momenten-Krümmungs-Beziehung des Querschnitt 57](T6_m_chi/m_chi_57.svg){#fig-m_chi_57}"
      ],
      "text/plain": [
       "<IPython.core.display.Markdown object>"
      ]
     },
     "metadata": {},
     "output_type": "display_data"
    },
    {
     "data": {
      "text/markdown": [
       "![Momenten-Krümmungs-Beziehung des Querschnitt 58](T6_m_chi/qs_58.svg){#fig-qs_58}"
      ],
      "text/plain": [
       "<IPython.core.display.Markdown object>"
      ]
     },
     "metadata": {},
     "output_type": "display_data"
    },
    {
     "data": {
      "text/markdown": [
       "![Momenten-Krümmungs-Beziehung des Querschnitt 58](T6_m_chi/m_chi_58.svg){#fig-m_chi_58}"
      ],
      "text/plain": [
       "<IPython.core.display.Markdown object>"
      ]
     },
     "metadata": {},
     "output_type": "display_data"
    },
    {
     "data": {
      "text/markdown": [
       "![Momenten-Krümmungs-Beziehung des Querschnitt 59](T6_m_chi/qs_59.svg){#fig-qs_59}"
      ],
      "text/plain": [
       "<IPython.core.display.Markdown object>"
      ]
     },
     "metadata": {},
     "output_type": "display_data"
    },
    {
     "data": {
      "text/markdown": [
       "![Momenten-Krümmungs-Beziehung des Querschnitt 59](T6_m_chi/m_chi_59.svg){#fig-m_chi_59}"
      ],
      "text/plain": [
       "<IPython.core.display.Markdown object>"
      ]
     },
     "metadata": {},
     "output_type": "display_data"
    },
    {
     "data": {
      "text/markdown": [
       "![Momenten-Krümmungs-Beziehung des Querschnitt 60](T6_m_chi/qs_60.svg){#fig-qs_60}"
      ],
      "text/plain": [
       "<IPython.core.display.Markdown object>"
      ]
     },
     "metadata": {},
     "output_type": "display_data"
    },
    {
     "data": {
      "text/markdown": [
       "![Momenten-Krümmungs-Beziehung des Querschnitt 60](T6_m_chi/m_chi_60.svg){#fig-m_chi_60}"
      ],
      "text/plain": [
       "<IPython.core.display.Markdown object>"
      ]
     },
     "metadata": {},
     "output_type": "display_data"
    },
    {
     "data": {
      "text/markdown": [
       "![Momenten-Krümmungs-Beziehung des Querschnitt 61](T6_m_chi/qs_61.svg){#fig-qs_61}"
      ],
      "text/plain": [
       "<IPython.core.display.Markdown object>"
      ]
     },
     "metadata": {},
     "output_type": "display_data"
    },
    {
     "data": {
      "text/markdown": [
       "![Momenten-Krümmungs-Beziehung des Querschnitt 61](T6_m_chi/m_chi_61.svg){#fig-m_chi_61}"
      ],
      "text/plain": [
       "<IPython.core.display.Markdown object>"
      ]
     },
     "metadata": {},
     "output_type": "display_data"
    },
    {
     "data": {
      "text/markdown": [
       "![Momenten-Krümmungs-Beziehung des Querschnitt 62](T6_m_chi/qs_62.svg){#fig-qs_62}"
      ],
      "text/plain": [
       "<IPython.core.display.Markdown object>"
      ]
     },
     "metadata": {},
     "output_type": "display_data"
    },
    {
     "data": {
      "text/markdown": [
       "![Momenten-Krümmungs-Beziehung des Querschnitt 62](T6_m_chi/m_chi_62.svg){#fig-m_chi_62}"
      ],
      "text/plain": [
       "<IPython.core.display.Markdown object>"
      ]
     },
     "metadata": {},
     "output_type": "display_data"
    },
    {
     "data": {
      "text/markdown": [
       "![Momenten-Krümmungs-Beziehung des Querschnitt 63](T6_m_chi/qs_63.svg){#fig-qs_63}"
      ],
      "text/plain": [
       "<IPython.core.display.Markdown object>"
      ]
     },
     "metadata": {},
     "output_type": "display_data"
    },
    {
     "data": {
      "text/markdown": [
       "![Momenten-Krümmungs-Beziehung des Querschnitt 63](T6_m_chi/m_chi_63.svg){#fig-m_chi_63}"
      ],
      "text/plain": [
       "<IPython.core.display.Markdown object>"
      ]
     },
     "metadata": {},
     "output_type": "display_data"
    },
    {
     "data": {
      "text/markdown": [
       "![Momenten-Krümmungs-Beziehung des Querschnitt 64](T6_m_chi/qs_64.svg){#fig-qs_64}"
      ],
      "text/plain": [
       "<IPython.core.display.Markdown object>"
      ]
     },
     "metadata": {},
     "output_type": "display_data"
    },
    {
     "data": {
      "text/markdown": [
       "![Momenten-Krümmungs-Beziehung des Querschnitt 64](T6_m_chi/m_chi_64.svg){#fig-m_chi_64}"
      ],
      "text/plain": [
       "<IPython.core.display.Markdown object>"
      ]
     },
     "metadata": {},
     "output_type": "display_data"
    },
    {
     "data": {
      "text/markdown": [
       "![Momenten-Krümmungs-Beziehung des Querschnitt 65](T6_m_chi/qs_65.svg){#fig-qs_65}"
      ],
      "text/plain": [
       "<IPython.core.display.Markdown object>"
      ]
     },
     "metadata": {},
     "output_type": "display_data"
    },
    {
     "data": {
      "text/markdown": [
       "![Momenten-Krümmungs-Beziehung des Querschnitt 65](T6_m_chi/m_chi_65.svg){#fig-m_chi_65}"
      ],
      "text/plain": [
       "<IPython.core.display.Markdown object>"
      ]
     },
     "metadata": {},
     "output_type": "display_data"
    },
    {
     "data": {
      "text/markdown": [
       "![Momenten-Krümmungs-Beziehung des Querschnitt 66](T6_m_chi/qs_66.svg){#fig-qs_66}"
      ],
      "text/plain": [
       "<IPython.core.display.Markdown object>"
      ]
     },
     "metadata": {},
     "output_type": "display_data"
    },
    {
     "data": {
      "text/markdown": [
       "![Momenten-Krümmungs-Beziehung des Querschnitt 66](T6_m_chi/m_chi_66.svg){#fig-m_chi_66}"
      ],
      "text/plain": [
       "<IPython.core.display.Markdown object>"
      ]
     },
     "metadata": {},
     "output_type": "display_data"
    },
    {
     "data": {
      "text/markdown": [
       "![Momenten-Krümmungs-Beziehung des Querschnitt 67](T6_m_chi/qs_67.svg){#fig-qs_67}"
      ],
      "text/plain": [
       "<IPython.core.display.Markdown object>"
      ]
     },
     "metadata": {},
     "output_type": "display_data"
    },
    {
     "data": {
      "text/markdown": [
       "![Momenten-Krümmungs-Beziehung des Querschnitt 67](T6_m_chi/m_chi_67.svg){#fig-m_chi_67}"
      ],
      "text/plain": [
       "<IPython.core.display.Markdown object>"
      ]
     },
     "metadata": {},
     "output_type": "display_data"
    },
    {
     "data": {
      "text/markdown": [
       "![Momenten-Krümmungs-Beziehung des Querschnitt 68](T6_m_chi/qs_68.svg){#fig-qs_68}"
      ],
      "text/plain": [
       "<IPython.core.display.Markdown object>"
      ]
     },
     "metadata": {},
     "output_type": "display_data"
    },
    {
     "data": {
      "text/markdown": [
       "![Momenten-Krümmungs-Beziehung des Querschnitt 68](T6_m_chi/m_chi_68.svg){#fig-m_chi_68}"
      ],
      "text/plain": [
       "<IPython.core.display.Markdown object>"
      ]
     },
     "metadata": {},
     "output_type": "display_data"
    },
    {
     "data": {
      "text/markdown": [
       "![Momenten-Krümmungs-Beziehung des Querschnitt 69](T6_m_chi/qs_69.svg){#fig-qs_69}"
      ],
      "text/plain": [
       "<IPython.core.display.Markdown object>"
      ]
     },
     "metadata": {},
     "output_type": "display_data"
    },
    {
     "data": {
      "text/markdown": [
       "![Momenten-Krümmungs-Beziehung des Querschnitt 69](T6_m_chi/m_chi_69.svg){#fig-m_chi_69}"
      ],
      "text/plain": [
       "<IPython.core.display.Markdown object>"
      ]
     },
     "metadata": {},
     "output_type": "display_data"
    },
    {
     "data": {
      "text/markdown": [
       "![Momenten-Krümmungs-Beziehung des Querschnitt 70](T6_m_chi/qs_70.svg){#fig-qs_70}"
      ],
      "text/plain": [
       "<IPython.core.display.Markdown object>"
      ]
     },
     "metadata": {},
     "output_type": "display_data"
    },
    {
     "data": {
      "text/markdown": [
       "![Momenten-Krümmungs-Beziehung des Querschnitt 70](T6_m_chi/m_chi_70.svg){#fig-m_chi_70}"
      ],
      "text/plain": [
       "<IPython.core.display.Markdown object>"
      ]
     },
     "metadata": {},
     "output_type": "display_data"
    },
    {
     "data": {
      "text/markdown": [
       "![Momenten-Krümmungs-Beziehung des Querschnitt 71](T6_m_chi/qs_71.svg){#fig-qs_71}"
      ],
      "text/plain": [
       "<IPython.core.display.Markdown object>"
      ]
     },
     "metadata": {},
     "output_type": "display_data"
    },
    {
     "data": {
      "text/markdown": [
       "![Momenten-Krümmungs-Beziehung des Querschnitt 71](T6_m_chi/m_chi_71.svg){#fig-m_chi_71}"
      ],
      "text/plain": [
       "<IPython.core.display.Markdown object>"
      ]
     },
     "metadata": {},
     "output_type": "display_data"
    },
    {
     "data": {
      "text/markdown": [
       "![Momenten-Krümmungs-Beziehung des Querschnitt 72](T6_m_chi/qs_72.svg){#fig-qs_72}"
      ],
      "text/plain": [
       "<IPython.core.display.Markdown object>"
      ]
     },
     "metadata": {},
     "output_type": "display_data"
    },
    {
     "data": {
      "text/markdown": [
       "![Momenten-Krümmungs-Beziehung des Querschnitt 72](T6_m_chi/m_chi_72.svg){#fig-m_chi_72}"
      ],
      "text/plain": [
       "<IPython.core.display.Markdown object>"
      ]
     },
     "metadata": {},
     "output_type": "display_data"
    },
    {
     "data": {
      "text/markdown": [
       "![Momenten-Krümmungs-Beziehung des Querschnitt 73](T6_m_chi/qs_73.svg){#fig-qs_73}"
      ],
      "text/plain": [
       "<IPython.core.display.Markdown object>"
      ]
     },
     "metadata": {},
     "output_type": "display_data"
    },
    {
     "data": {
      "text/markdown": [
       "![Momenten-Krümmungs-Beziehung des Querschnitt 73](T6_m_chi/m_chi_73.svg){#fig-m_chi_73}"
      ],
      "text/plain": [
       "<IPython.core.display.Markdown object>"
      ]
     },
     "metadata": {},
     "output_type": "display_data"
    },
    {
     "data": {
      "text/markdown": [
       "![Momenten-Krümmungs-Beziehung des Querschnitt 74](T6_m_chi/qs_74.svg){#fig-qs_74}"
      ],
      "text/plain": [
       "<IPython.core.display.Markdown object>"
      ]
     },
     "metadata": {},
     "output_type": "display_data"
    },
    {
     "data": {
      "text/markdown": [
       "![Momenten-Krümmungs-Beziehung des Querschnitt 74](T6_m_chi/m_chi_74.svg){#fig-m_chi_74}"
      ],
      "text/plain": [
       "<IPython.core.display.Markdown object>"
      ]
     },
     "metadata": {},
     "output_type": "display_data"
    },
    {
     "data": {
      "text/markdown": [
       "![Momenten-Krümmungs-Beziehung des Querschnitt 75](T6_m_chi/qs_75.svg){#fig-qs_75}"
      ],
      "text/plain": [
       "<IPython.core.display.Markdown object>"
      ]
     },
     "metadata": {},
     "output_type": "display_data"
    },
    {
     "data": {
      "text/markdown": [
       "![Momenten-Krümmungs-Beziehung des Querschnitt 75](T6_m_chi/m_chi_75.svg){#fig-m_chi_75}"
      ],
      "text/plain": [
       "<IPython.core.display.Markdown object>"
      ]
     },
     "metadata": {},
     "output_type": "display_data"
    },
    {
     "data": {
      "text/markdown": [
       "![Momenten-Krümmungs-Beziehung des Querschnitt 76](T6_m_chi/qs_76.svg){#fig-qs_76}"
      ],
      "text/plain": [
       "<IPython.core.display.Markdown object>"
      ]
     },
     "metadata": {},
     "output_type": "display_data"
    },
    {
     "data": {
      "text/markdown": [
       "![Momenten-Krümmungs-Beziehung des Querschnitt 76](T6_m_chi/m_chi_76.svg){#fig-m_chi_76}"
      ],
      "text/plain": [
       "<IPython.core.display.Markdown object>"
      ]
     },
     "metadata": {},
     "output_type": "display_data"
    },
    {
     "data": {
      "text/markdown": [
       "![Momenten-Krümmungs-Beziehung des Querschnitt 77](T6_m_chi/qs_77.svg){#fig-qs_77}"
      ],
      "text/plain": [
       "<IPython.core.display.Markdown object>"
      ]
     },
     "metadata": {},
     "output_type": "display_data"
    },
    {
     "data": {
      "text/markdown": [
       "![Momenten-Krümmungs-Beziehung des Querschnitt 77](T6_m_chi/m_chi_77.svg){#fig-m_chi_77}"
      ],
      "text/plain": [
       "<IPython.core.display.Markdown object>"
      ]
     },
     "metadata": {},
     "output_type": "display_data"
    },
    {
     "data": {
      "text/markdown": [
       "![Momenten-Krümmungs-Beziehung des Querschnitt 78](T6_m_chi/qs_78.svg){#fig-qs_78}"
      ],
      "text/plain": [
       "<IPython.core.display.Markdown object>"
      ]
     },
     "metadata": {},
     "output_type": "display_data"
    },
    {
     "data": {
      "text/markdown": [
       "![Momenten-Krümmungs-Beziehung des Querschnitt 78](T6_m_chi/m_chi_78.svg){#fig-m_chi_78}"
      ],
      "text/plain": [
       "<IPython.core.display.Markdown object>"
      ]
     },
     "metadata": {},
     "output_type": "display_data"
    },
    {
     "data": {
      "text/markdown": [
       "![Momenten-Krümmungs-Beziehung des Querschnitt 79](T6_m_chi/qs_79.svg){#fig-qs_79}"
      ],
      "text/plain": [
       "<IPython.core.display.Markdown object>"
      ]
     },
     "metadata": {},
     "output_type": "display_data"
    },
    {
     "data": {
      "text/markdown": [
       "![Momenten-Krümmungs-Beziehung des Querschnitt 79](T6_m_chi/m_chi_79.svg){#fig-m_chi_79}"
      ],
      "text/plain": [
       "<IPython.core.display.Markdown object>"
      ]
     },
     "metadata": {},
     "output_type": "display_data"
    },
    {
     "data": {
      "text/markdown": [
       "![Momenten-Krümmungs-Beziehung des Querschnitt 80](T6_m_chi/qs_80.svg){#fig-qs_80}"
      ],
      "text/plain": [
       "<IPython.core.display.Markdown object>"
      ]
     },
     "metadata": {},
     "output_type": "display_data"
    },
    {
     "data": {
      "text/markdown": [
       "![Momenten-Krümmungs-Beziehung des Querschnitt 80](T6_m_chi/m_chi_80.svg){#fig-m_chi_80}"
      ],
      "text/plain": [
       "<IPython.core.display.Markdown object>"
      ]
     },
     "metadata": {},
     "output_type": "display_data"
    },
    {
     "data": {
      "text/markdown": [
       "![Momenten-Krümmungs-Beziehung des Querschnitt 81](T6_m_chi/qs_81.svg){#fig-qs_81}"
      ],
      "text/plain": [
       "<IPython.core.display.Markdown object>"
      ]
     },
     "metadata": {},
     "output_type": "display_data"
    },
    {
     "data": {
      "text/markdown": [
       "![Momenten-Krümmungs-Beziehung des Querschnitt 81](T6_m_chi/m_chi_81.svg){#fig-m_chi_81}"
      ],
      "text/plain": [
       "<IPython.core.display.Markdown object>"
      ]
     },
     "metadata": {},
     "output_type": "display_data"
    },
    {
     "data": {
      "text/markdown": [
       "![Momenten-Krümmungs-Beziehung des Querschnitt 82](T6_m_chi/qs_82.svg){#fig-qs_82}"
      ],
      "text/plain": [
       "<IPython.core.display.Markdown object>"
      ]
     },
     "metadata": {},
     "output_type": "display_data"
    },
    {
     "data": {
      "text/markdown": [
       "![Momenten-Krümmungs-Beziehung des Querschnitt 82](T6_m_chi/m_chi_82.svg){#fig-m_chi_82}"
      ],
      "text/plain": [
       "<IPython.core.display.Markdown object>"
      ]
     },
     "metadata": {},
     "output_type": "display_data"
    },
    {
     "data": {
      "text/markdown": [
       "![Momenten-Krümmungs-Beziehung des Querschnitt 83](T6_m_chi/qs_83.svg){#fig-qs_83}"
      ],
      "text/plain": [
       "<IPython.core.display.Markdown object>"
      ]
     },
     "metadata": {},
     "output_type": "display_data"
    },
    {
     "data": {
      "text/markdown": [
       "![Momenten-Krümmungs-Beziehung des Querschnitt 83](T6_m_chi/m_chi_83.svg){#fig-m_chi_83}"
      ],
      "text/plain": [
       "<IPython.core.display.Markdown object>"
      ]
     },
     "metadata": {},
     "output_type": "display_data"
    },
    {
     "data": {
      "text/markdown": [
       "![Momenten-Krümmungs-Beziehung des Querschnitt 84](T6_m_chi/qs_84.svg){#fig-qs_84}"
      ],
      "text/plain": [
       "<IPython.core.display.Markdown object>"
      ]
     },
     "metadata": {},
     "output_type": "display_data"
    },
    {
     "data": {
      "text/markdown": [
       "![Momenten-Krümmungs-Beziehung des Querschnitt 84](T6_m_chi/m_chi_84.svg){#fig-m_chi_84}"
      ],
      "text/plain": [
       "<IPython.core.display.Markdown object>"
      ]
     },
     "metadata": {},
     "output_type": "display_data"
    },
    {
     "data": {
      "text/markdown": [
       "![Momenten-Krümmungs-Beziehung des Querschnitt 85](T6_m_chi/qs_85.svg){#fig-qs_85}"
      ],
      "text/plain": [
       "<IPython.core.display.Markdown object>"
      ]
     },
     "metadata": {},
     "output_type": "display_data"
    },
    {
     "data": {
      "text/markdown": [
       "![Momenten-Krümmungs-Beziehung des Querschnitt 85](T6_m_chi/m_chi_85.svg){#fig-m_chi_85}"
      ],
      "text/plain": [
       "<IPython.core.display.Markdown object>"
      ]
     },
     "metadata": {},
     "output_type": "display_data"
    },
    {
     "data": {
      "text/markdown": [
       "![Momenten-Krümmungs-Beziehung des Querschnitt 86](T6_m_chi/qs_86.svg){#fig-qs_86}"
      ],
      "text/plain": [
       "<IPython.core.display.Markdown object>"
      ]
     },
     "metadata": {},
     "output_type": "display_data"
    },
    {
     "data": {
      "text/markdown": [
       "![Momenten-Krümmungs-Beziehung des Querschnitt 86](T6_m_chi/m_chi_86.svg){#fig-m_chi_86}"
      ],
      "text/plain": [
       "<IPython.core.display.Markdown object>"
      ]
     },
     "metadata": {},
     "output_type": "display_data"
    },
    {
     "data": {
      "text/markdown": [
       "![Momenten-Krümmungs-Beziehung des Querschnitt 87](T6_m_chi/qs_87.svg){#fig-qs_87}"
      ],
      "text/plain": [
       "<IPython.core.display.Markdown object>"
      ]
     },
     "metadata": {},
     "output_type": "display_data"
    },
    {
     "data": {
      "text/markdown": [
       "![Momenten-Krümmungs-Beziehung des Querschnitt 87](T6_m_chi/m_chi_87.svg){#fig-m_chi_87}"
      ],
      "text/plain": [
       "<IPython.core.display.Markdown object>"
      ]
     },
     "metadata": {},
     "output_type": "display_data"
    },
    {
     "data": {
      "text/markdown": [
       "![Momenten-Krümmungs-Beziehung des Querschnitt 88](T6_m_chi/qs_88.svg){#fig-qs_88}"
      ],
      "text/plain": [
       "<IPython.core.display.Markdown object>"
      ]
     },
     "metadata": {},
     "output_type": "display_data"
    },
    {
     "data": {
      "text/markdown": [
       "![Momenten-Krümmungs-Beziehung des Querschnitt 88](T6_m_chi/m_chi_88.svg){#fig-m_chi_88}"
      ],
      "text/plain": [
       "<IPython.core.display.Markdown object>"
      ]
     },
     "metadata": {},
     "output_type": "display_data"
    },
    {
     "data": {
      "text/markdown": [
       "![Momenten-Krümmungs-Beziehung des Querschnitt 89](T6_m_chi/qs_89.svg){#fig-qs_89}"
      ],
      "text/plain": [
       "<IPython.core.display.Markdown object>"
      ]
     },
     "metadata": {},
     "output_type": "display_data"
    },
    {
     "data": {
      "text/markdown": [
       "![Momenten-Krümmungs-Beziehung des Querschnitt 89](T6_m_chi/m_chi_89.svg){#fig-m_chi_89}"
      ],
      "text/plain": [
       "<IPython.core.display.Markdown object>"
      ]
     },
     "metadata": {},
     "output_type": "display_data"
    },
    {
     "data": {
      "text/markdown": [
       "![Momenten-Krümmungs-Beziehung des Querschnitt 90](T6_m_chi/qs_90.svg){#fig-qs_90}"
      ],
      "text/plain": [
       "<IPython.core.display.Markdown object>"
      ]
     },
     "metadata": {},
     "output_type": "display_data"
    },
    {
     "data": {
      "text/markdown": [
       "![Momenten-Krümmungs-Beziehung des Querschnitt 90](T6_m_chi/m_chi_90.svg){#fig-m_chi_90}"
      ],
      "text/plain": [
       "<IPython.core.display.Markdown object>"
      ]
     },
     "metadata": {},
     "output_type": "display_data"
    },
    {
     "data": {
      "text/markdown": [
       "![Momenten-Krümmungs-Beziehung des Querschnitt 91](T6_m_chi/qs_91.svg){#fig-qs_91}"
      ],
      "text/plain": [
       "<IPython.core.display.Markdown object>"
      ]
     },
     "metadata": {},
     "output_type": "display_data"
    },
    {
     "data": {
      "text/markdown": [
       "![Momenten-Krümmungs-Beziehung des Querschnitt 91](T6_m_chi/m_chi_91.svg){#fig-m_chi_91}"
      ],
      "text/plain": [
       "<IPython.core.display.Markdown object>"
      ]
     },
     "metadata": {},
     "output_type": "display_data"
    },
    {
     "data": {
      "text/markdown": [
       "![Momenten-Krümmungs-Beziehung des Querschnitt 92](T6_m_chi/qs_92.svg){#fig-qs_92}"
      ],
      "text/plain": [
       "<IPython.core.display.Markdown object>"
      ]
     },
     "metadata": {},
     "output_type": "display_data"
    },
    {
     "data": {
      "text/markdown": [
       "![Momenten-Krümmungs-Beziehung des Querschnitt 92](T6_m_chi/m_chi_92.svg){#fig-m_chi_92}"
      ],
      "text/plain": [
       "<IPython.core.display.Markdown object>"
      ]
     },
     "metadata": {},
     "output_type": "display_data"
    },
    {
     "data": {
      "text/markdown": [
       "![Momenten-Krümmungs-Beziehung des Querschnitt 93](T6_m_chi/qs_93.svg){#fig-qs_93}"
      ],
      "text/plain": [
       "<IPython.core.display.Markdown object>"
      ]
     },
     "metadata": {},
     "output_type": "display_data"
    },
    {
     "data": {
      "text/markdown": [
       "![Momenten-Krümmungs-Beziehung des Querschnitt 93](T6_m_chi/m_chi_93.svg){#fig-m_chi_93}"
      ],
      "text/plain": [
       "<IPython.core.display.Markdown object>"
      ]
     },
     "metadata": {},
     "output_type": "display_data"
    },
    {
     "data": {
      "text/markdown": [
       "![Momenten-Krümmungs-Beziehung des Querschnitt 94](T6_m_chi/qs_94.svg){#fig-qs_94}"
      ],
      "text/plain": [
       "<IPython.core.display.Markdown object>"
      ]
     },
     "metadata": {},
     "output_type": "display_data"
    },
    {
     "data": {
      "text/markdown": [
       "![Momenten-Krümmungs-Beziehung des Querschnitt 94](T6_m_chi/m_chi_94.svg){#fig-m_chi_94}"
      ],
      "text/plain": [
       "<IPython.core.display.Markdown object>"
      ]
     },
     "metadata": {},
     "output_type": "display_data"
    },
    {
     "data": {
      "text/markdown": [
       "![Momenten-Krümmungs-Beziehung des Querschnitt 95](T6_m_chi/qs_95.svg){#fig-qs_95}"
      ],
      "text/plain": [
       "<IPython.core.display.Markdown object>"
      ]
     },
     "metadata": {},
     "output_type": "display_data"
    },
    {
     "data": {
      "text/markdown": [
       "![Momenten-Krümmungs-Beziehung des Querschnitt 95](T6_m_chi/m_chi_95.svg){#fig-m_chi_95}"
      ],
      "text/plain": [
       "<IPython.core.display.Markdown object>"
      ]
     },
     "metadata": {},
     "output_type": "display_data"
    },
    {
     "data": {
      "text/markdown": [
       "![Momenten-Krümmungs-Beziehung des Querschnitt 96](T6_m_chi/qs_96.svg){#fig-qs_96}"
      ],
      "text/plain": [
       "<IPython.core.display.Markdown object>"
      ]
     },
     "metadata": {},
     "output_type": "display_data"
    },
    {
     "data": {
      "text/markdown": [
       "![Momenten-Krümmungs-Beziehung des Querschnitt 96](T6_m_chi/m_chi_96.svg){#fig-m_chi_96}"
      ],
      "text/plain": [
       "<IPython.core.display.Markdown object>"
      ]
     },
     "metadata": {},
     "output_type": "display_data"
    },
    {
     "data": {
      "text/markdown": [
       "![Momenten-Krümmungs-Beziehung des Querschnitt 97](T6_m_chi/qs_97.svg){#fig-qs_97}"
      ],
      "text/plain": [
       "<IPython.core.display.Markdown object>"
      ]
     },
     "metadata": {},
     "output_type": "display_data"
    },
    {
     "data": {
      "text/markdown": [
       "![Momenten-Krümmungs-Beziehung des Querschnitt 97](T6_m_chi/m_chi_97.svg){#fig-m_chi_97}"
      ],
      "text/plain": [
       "<IPython.core.display.Markdown object>"
      ]
     },
     "metadata": {},
     "output_type": "display_data"
    },
    {
     "data": {
      "text/markdown": [
       "![Momenten-Krümmungs-Beziehung des Querschnitt 98](T6_m_chi/qs_98.svg){#fig-qs_98}"
      ],
      "text/plain": [
       "<IPython.core.display.Markdown object>"
      ]
     },
     "metadata": {},
     "output_type": "display_data"
    },
    {
     "data": {
      "text/markdown": [
       "![Momenten-Krümmungs-Beziehung des Querschnitt 98](T6_m_chi/m_chi_98.svg){#fig-m_chi_98}"
      ],
      "text/plain": [
       "<IPython.core.display.Markdown object>"
      ]
     },
     "metadata": {},
     "output_type": "display_data"
    },
    {
     "data": {
      "text/markdown": [
       "![Momenten-Krümmungs-Beziehung des Querschnitt 99](T6_m_chi/qs_99.svg){#fig-qs_99}"
      ],
      "text/plain": [
       "<IPython.core.display.Markdown object>"
      ]
     },
     "metadata": {},
     "output_type": "display_data"
    },
    {
     "data": {
      "text/markdown": [
       "![Momenten-Krümmungs-Beziehung des Querschnitt 99](T6_m_chi/m_chi_99.svg){#fig-m_chi_99}"
      ],
      "text/plain": [
       "<IPython.core.display.Markdown object>"
      ]
     },
     "metadata": {},
     "output_type": "display_data"
    },
    {
     "data": {
      "text/markdown": [
       "![Momenten-Krümmungs-Beziehung des Querschnitt 100](T6_m_chi/qs_100.svg){#fig-qs_100}"
      ],
      "text/plain": [
       "<IPython.core.display.Markdown object>"
      ]
     },
     "metadata": {},
     "output_type": "display_data"
    },
    {
     "data": {
      "text/markdown": [
       "![Momenten-Krümmungs-Beziehung des Querschnitt 100](T6_m_chi/m_chi_100.svg){#fig-m_chi_100}"
      ],
      "text/plain": [
       "<IPython.core.display.Markdown object>"
      ]
     },
     "metadata": {},
     "output_type": "display_data"
    },
    {
     "data": {
      "text/markdown": [
       "![Momenten-Krümmungs-Beziehung des Querschnitt 101](T6_m_chi/qs_101.svg){#fig-qs_101}"
      ],
      "text/plain": [
       "<IPython.core.display.Markdown object>"
      ]
     },
     "metadata": {},
     "output_type": "display_data"
    },
    {
     "data": {
      "text/markdown": [
       "![Momenten-Krümmungs-Beziehung des Querschnitt 101](T6_m_chi/m_chi_101.svg){#fig-m_chi_101}"
      ],
      "text/plain": [
       "<IPython.core.display.Markdown object>"
      ]
     },
     "metadata": {},
     "output_type": "display_data"
    },
    {
     "data": {
      "text/markdown": [
       "![Momenten-Krümmungs-Beziehung des Querschnitt 102](T6_m_chi/qs_102.svg){#fig-qs_102}"
      ],
      "text/plain": [
       "<IPython.core.display.Markdown object>"
      ]
     },
     "metadata": {},
     "output_type": "display_data"
    },
    {
     "data": {
      "text/markdown": [
       "![Momenten-Krümmungs-Beziehung des Querschnitt 102](T6_m_chi/m_chi_102.svg){#fig-m_chi_102}"
      ],
      "text/plain": [
       "<IPython.core.display.Markdown object>"
      ]
     },
     "metadata": {},
     "output_type": "display_data"
    },
    {
     "data": {
      "text/markdown": [
       "![Momenten-Krümmungs-Beziehung des Querschnitt 103](T6_m_chi/qs_103.svg){#fig-qs_103}"
      ],
      "text/plain": [
       "<IPython.core.display.Markdown object>"
      ]
     },
     "metadata": {},
     "output_type": "display_data"
    },
    {
     "data": {
      "text/markdown": [
       "![Momenten-Krümmungs-Beziehung des Querschnitt 103](T6_m_chi/m_chi_103.svg){#fig-m_chi_103}"
      ],
      "text/plain": [
       "<IPython.core.display.Markdown object>"
      ]
     },
     "metadata": {},
     "output_type": "display_data"
    },
    {
     "data": {
      "text/markdown": [
       "![Momenten-Krümmungs-Beziehung des Querschnitt 104](T6_m_chi/qs_104.svg){#fig-qs_104}"
      ],
      "text/plain": [
       "<IPython.core.display.Markdown object>"
      ]
     },
     "metadata": {},
     "output_type": "display_data"
    },
    {
     "data": {
      "text/markdown": [
       "![Momenten-Krümmungs-Beziehung des Querschnitt 104](T6_m_chi/m_chi_104.svg){#fig-m_chi_104}"
      ],
      "text/plain": [
       "<IPython.core.display.Markdown object>"
      ]
     },
     "metadata": {},
     "output_type": "display_data"
    },
    {
     "data": {
      "text/markdown": [
       "![Momenten-Krümmungs-Beziehung des Querschnitt 105](T6_m_chi/qs_105.svg){#fig-qs_105}"
      ],
      "text/plain": [
       "<IPython.core.display.Markdown object>"
      ]
     },
     "metadata": {},
     "output_type": "display_data"
    },
    {
     "data": {
      "text/markdown": [
       "![Momenten-Krümmungs-Beziehung des Querschnitt 105](T6_m_chi/m_chi_105.svg){#fig-m_chi_105}"
      ],
      "text/plain": [
       "<IPython.core.display.Markdown object>"
      ]
     },
     "metadata": {},
     "output_type": "display_data"
    },
    {
     "data": {
      "text/markdown": [
       "![Momenten-Krümmungs-Beziehung des Querschnitt 106](T6_m_chi/qs_106.svg){#fig-qs_106}"
      ],
      "text/plain": [
       "<IPython.core.display.Markdown object>"
      ]
     },
     "metadata": {},
     "output_type": "display_data"
    },
    {
     "data": {
      "text/markdown": [
       "![Momenten-Krümmungs-Beziehung des Querschnitt 106](T6_m_chi/m_chi_106.svg){#fig-m_chi_106}"
      ],
      "text/plain": [
       "<IPython.core.display.Markdown object>"
      ]
     },
     "metadata": {},
     "output_type": "display_data"
    },
    {
     "data": {
      "text/markdown": [
       "![Momenten-Krümmungs-Beziehung des Querschnitt 107](T6_m_chi/qs_107.svg){#fig-qs_107}"
      ],
      "text/plain": [
       "<IPython.core.display.Markdown object>"
      ]
     },
     "metadata": {},
     "output_type": "display_data"
    },
    {
     "data": {
      "text/markdown": [
       "![Momenten-Krümmungs-Beziehung des Querschnitt 107](T6_m_chi/m_chi_107.svg){#fig-m_chi_107}"
      ],
      "text/plain": [
       "<IPython.core.display.Markdown object>"
      ]
     },
     "metadata": {},
     "output_type": "display_data"
    },
    {
     "data": {
      "text/markdown": [
       "![Momenten-Krümmungs-Beziehung des Querschnitt 108](T6_m_chi/qs_108.svg){#fig-qs_108}"
      ],
      "text/plain": [
       "<IPython.core.display.Markdown object>"
      ]
     },
     "metadata": {},
     "output_type": "display_data"
    },
    {
     "data": {
      "text/markdown": [
       "![Momenten-Krümmungs-Beziehung des Querschnitt 108](T6_m_chi/m_chi_108.svg){#fig-m_chi_108}"
      ],
      "text/plain": [
       "<IPython.core.display.Markdown object>"
      ]
     },
     "metadata": {},
     "output_type": "display_data"
    },
    {
     "data": {
      "text/markdown": [
       "![Momenten-Krümmungs-Beziehung des Querschnitt 109](T6_m_chi/qs_109.svg){#fig-qs_109}"
      ],
      "text/plain": [
       "<IPython.core.display.Markdown object>"
      ]
     },
     "metadata": {},
     "output_type": "display_data"
    },
    {
     "data": {
      "text/markdown": [
       "![Momenten-Krümmungs-Beziehung des Querschnitt 109](T6_m_chi/m_chi_109.svg){#fig-m_chi_109}"
      ],
      "text/plain": [
       "<IPython.core.display.Markdown object>"
      ]
     },
     "metadata": {},
     "output_type": "display_data"
    },
    {
     "data": {
      "text/markdown": [
       "![Momenten-Krümmungs-Beziehung des Querschnitt 110](T6_m_chi/qs_110.svg){#fig-qs_110}"
      ],
      "text/plain": [
       "<IPython.core.display.Markdown object>"
      ]
     },
     "metadata": {},
     "output_type": "display_data"
    },
    {
     "data": {
      "text/markdown": [
       "![Momenten-Krümmungs-Beziehung des Querschnitt 110](T6_m_chi/m_chi_110.svg){#fig-m_chi_110}"
      ],
      "text/plain": [
       "<IPython.core.display.Markdown object>"
      ]
     },
     "metadata": {},
     "output_type": "display_data"
    },
    {
     "data": {
      "text/markdown": [
       "![Momenten-Krümmungs-Beziehung des Querschnitt 111](T6_m_chi/qs_111.svg){#fig-qs_111}"
      ],
      "text/plain": [
       "<IPython.core.display.Markdown object>"
      ]
     },
     "metadata": {},
     "output_type": "display_data"
    },
    {
     "data": {
      "text/markdown": [
       "![Momenten-Krümmungs-Beziehung des Querschnitt 111](T6_m_chi/m_chi_111.svg){#fig-m_chi_111}"
      ],
      "text/plain": [
       "<IPython.core.display.Markdown object>"
      ]
     },
     "metadata": {},
     "output_type": "display_data"
    },
    {
     "data": {
      "text/markdown": [
       "![Momenten-Krümmungs-Beziehung des Querschnitt 112](T6_m_chi/qs_112.svg){#fig-qs_112}"
      ],
      "text/plain": [
       "<IPython.core.display.Markdown object>"
      ]
     },
     "metadata": {},
     "output_type": "display_data"
    },
    {
     "data": {
      "text/markdown": [
       "![Momenten-Krümmungs-Beziehung des Querschnitt 112](T6_m_chi/m_chi_112.svg){#fig-m_chi_112}"
      ],
      "text/plain": [
       "<IPython.core.display.Markdown object>"
      ]
     },
     "metadata": {},
     "output_type": "display_data"
    },
    {
     "data": {
      "text/markdown": [
       "![Momenten-Krümmungs-Beziehung des Querschnitt 113](T6_m_chi/qs_113.svg){#fig-qs_113}"
      ],
      "text/plain": [
       "<IPython.core.display.Markdown object>"
      ]
     },
     "metadata": {},
     "output_type": "display_data"
    },
    {
     "data": {
      "text/markdown": [
       "![Momenten-Krümmungs-Beziehung des Querschnitt 113](T6_m_chi/m_chi_113.svg){#fig-m_chi_113}"
      ],
      "text/plain": [
       "<IPython.core.display.Markdown object>"
      ]
     },
     "metadata": {},
     "output_type": "display_data"
    },
    {
     "data": {
      "text/markdown": [
       "![Momenten-Krümmungs-Beziehung des Querschnitt 114](T6_m_chi/qs_114.svg){#fig-qs_114}"
      ],
      "text/plain": [
       "<IPython.core.display.Markdown object>"
      ]
     },
     "metadata": {},
     "output_type": "display_data"
    },
    {
     "data": {
      "text/markdown": [
       "![Momenten-Krümmungs-Beziehung des Querschnitt 114](T6_m_chi/m_chi_114.svg){#fig-m_chi_114}"
      ],
      "text/plain": [
       "<IPython.core.display.Markdown object>"
      ]
     },
     "metadata": {},
     "output_type": "display_data"
    },
    {
     "data": {
      "text/markdown": [
       "![Momenten-Krümmungs-Beziehung des Querschnitt 115](T6_m_chi/qs_115.svg){#fig-qs_115}"
      ],
      "text/plain": [
       "<IPython.core.display.Markdown object>"
      ]
     },
     "metadata": {},
     "output_type": "display_data"
    },
    {
     "data": {
      "text/markdown": [
       "![Momenten-Krümmungs-Beziehung des Querschnitt 115](T6_m_chi/m_chi_115.svg){#fig-m_chi_115}"
      ],
      "text/plain": [
       "<IPython.core.display.Markdown object>"
      ]
     },
     "metadata": {},
     "output_type": "display_data"
    },
    {
     "data": {
      "text/markdown": [
       "![Momenten-Krümmungs-Beziehung des Querschnitt 116](T6_m_chi/qs_116.svg){#fig-qs_116}"
      ],
      "text/plain": [
       "<IPython.core.display.Markdown object>"
      ]
     },
     "metadata": {},
     "output_type": "display_data"
    },
    {
     "data": {
      "text/markdown": [
       "![Momenten-Krümmungs-Beziehung des Querschnitt 116](T6_m_chi/m_chi_116.svg){#fig-m_chi_116}"
      ],
      "text/plain": [
       "<IPython.core.display.Markdown object>"
      ]
     },
     "metadata": {},
     "output_type": "display_data"
    },
    {
     "data": {
      "text/markdown": [
       "![Momenten-Krümmungs-Beziehung des Querschnitt 117](T6_m_chi/qs_117.svg){#fig-qs_117}"
      ],
      "text/plain": [
       "<IPython.core.display.Markdown object>"
      ]
     },
     "metadata": {},
     "output_type": "display_data"
    },
    {
     "data": {
      "text/markdown": [
       "![Momenten-Krümmungs-Beziehung des Querschnitt 117](T6_m_chi/m_chi_117.svg){#fig-m_chi_117}"
      ],
      "text/plain": [
       "<IPython.core.display.Markdown object>"
      ]
     },
     "metadata": {},
     "output_type": "display_data"
    },
    {
     "data": {
      "text/markdown": [
       "![Momenten-Krümmungs-Beziehung des Querschnitt 118](T6_m_chi/qs_118.svg){#fig-qs_118}"
      ],
      "text/plain": [
       "<IPython.core.display.Markdown object>"
      ]
     },
     "metadata": {},
     "output_type": "display_data"
    },
    {
     "data": {
      "text/markdown": [
       "![Momenten-Krümmungs-Beziehung des Querschnitt 118](T6_m_chi/m_chi_118.svg){#fig-m_chi_118}"
      ],
      "text/plain": [
       "<IPython.core.display.Markdown object>"
      ]
     },
     "metadata": {},
     "output_type": "display_data"
    },
    {
     "data": {
      "text/markdown": [
       "![Momenten-Krümmungs-Beziehung des Querschnitt 119](T6_m_chi/qs_119.svg){#fig-qs_119}"
      ],
      "text/plain": [
       "<IPython.core.display.Markdown object>"
      ]
     },
     "metadata": {},
     "output_type": "display_data"
    },
    {
     "data": {
      "text/markdown": [
       "![Momenten-Krümmungs-Beziehung des Querschnitt 119](T6_m_chi/m_chi_119.svg){#fig-m_chi_119}"
      ],
      "text/plain": [
       "<IPython.core.display.Markdown object>"
      ]
     },
     "metadata": {},
     "output_type": "display_data"
    },
    {
     "data": {
      "text/markdown": [
       "![Momenten-Krümmungs-Beziehung des Querschnitt 120](T6_m_chi/qs_120.svg){#fig-qs_120}"
      ],
      "text/plain": [
       "<IPython.core.display.Markdown object>"
      ]
     },
     "metadata": {},
     "output_type": "display_data"
    },
    {
     "data": {
      "text/markdown": [
       "![Momenten-Krümmungs-Beziehung des Querschnitt 120](T6_m_chi/m_chi_120.svg){#fig-m_chi_120}"
      ],
      "text/plain": [
       "<IPython.core.display.Markdown object>"
      ]
     },
     "metadata": {},
     "output_type": "display_data"
    },
    {
     "data": {
      "text/markdown": [
       "![Momenten-Krümmungs-Beziehung des Querschnitt 121](T6_m_chi/qs_121.svg){#fig-qs_121}"
      ],
      "text/plain": [
       "<IPython.core.display.Markdown object>"
      ]
     },
     "metadata": {},
     "output_type": "display_data"
    },
    {
     "data": {
      "text/markdown": [
       "![Momenten-Krümmungs-Beziehung des Querschnitt 121](T6_m_chi/m_chi_121.svg){#fig-m_chi_121}"
      ],
      "text/plain": [
       "<IPython.core.display.Markdown object>"
      ]
     },
     "metadata": {},
     "output_type": "display_data"
    },
    {
     "data": {
      "text/markdown": [
       "![Momenten-Krümmungs-Beziehung des Querschnitt 122](T6_m_chi/qs_122.svg){#fig-qs_122}"
      ],
      "text/plain": [
       "<IPython.core.display.Markdown object>"
      ]
     },
     "metadata": {},
     "output_type": "display_data"
    },
    {
     "data": {
      "text/markdown": [
       "![Momenten-Krümmungs-Beziehung des Querschnitt 122](T6_m_chi/m_chi_122.svg){#fig-m_chi_122}"
      ],
      "text/plain": [
       "<IPython.core.display.Markdown object>"
      ]
     },
     "metadata": {},
     "output_type": "display_data"
    },
    {
     "data": {
      "text/markdown": [
       "![Momenten-Krümmungs-Beziehung des Querschnitt 123](T6_m_chi/qs_123.svg){#fig-qs_123}"
      ],
      "text/plain": [
       "<IPython.core.display.Markdown object>"
      ]
     },
     "metadata": {},
     "output_type": "display_data"
    },
    {
     "data": {
      "text/markdown": [
       "![Momenten-Krümmungs-Beziehung des Querschnitt 123](T6_m_chi/m_chi_123.svg){#fig-m_chi_123}"
      ],
      "text/plain": [
       "<IPython.core.display.Markdown object>"
      ]
     },
     "metadata": {},
     "output_type": "display_data"
    },
    {
     "data": {
      "text/markdown": [
       "![Momenten-Krümmungs-Beziehung des Querschnitt 124](T6_m_chi/qs_124.svg){#fig-qs_124}"
      ],
      "text/plain": [
       "<IPython.core.display.Markdown object>"
      ]
     },
     "metadata": {},
     "output_type": "display_data"
    },
    {
     "data": {
      "text/markdown": [
       "![Momenten-Krümmungs-Beziehung des Querschnitt 124](T6_m_chi/m_chi_124.svg){#fig-m_chi_124}"
      ],
      "text/plain": [
       "<IPython.core.display.Markdown object>"
      ]
     },
     "metadata": {},
     "output_type": "display_data"
    },
    {
     "data": {
      "text/markdown": [
       "![Momenten-Krümmungs-Beziehung des Querschnitt 125](T6_m_chi/qs_125.svg){#fig-qs_125}"
      ],
      "text/plain": [
       "<IPython.core.display.Markdown object>"
      ]
     },
     "metadata": {},
     "output_type": "display_data"
    },
    {
     "data": {
      "text/markdown": [
       "![Momenten-Krümmungs-Beziehung des Querschnitt 125](T6_m_chi/m_chi_125.svg){#fig-m_chi_125}"
      ],
      "text/plain": [
       "<IPython.core.display.Markdown object>"
      ]
     },
     "metadata": {},
     "output_type": "display_data"
    },
    {
     "data": {
      "text/markdown": [
       "![Momenten-Krümmungs-Beziehung des Querschnitt 126](T6_m_chi/qs_126.svg){#fig-qs_126}"
      ],
      "text/plain": [
       "<IPython.core.display.Markdown object>"
      ]
     },
     "metadata": {},
     "output_type": "display_data"
    },
    {
     "data": {
      "text/markdown": [
       "![Momenten-Krümmungs-Beziehung des Querschnitt 126](T6_m_chi/m_chi_126.svg){#fig-m_chi_126}"
      ],
      "text/plain": [
       "<IPython.core.display.Markdown object>"
      ]
     },
     "metadata": {},
     "output_type": "display_data"
    },
    {
     "data": {
      "text/markdown": [
       "![Momenten-Krümmungs-Beziehung des Querschnitt 127](T6_m_chi/qs_127.svg){#fig-qs_127}"
      ],
      "text/plain": [
       "<IPython.core.display.Markdown object>"
      ]
     },
     "metadata": {},
     "output_type": "display_data"
    },
    {
     "data": {
      "text/markdown": [
       "![Momenten-Krümmungs-Beziehung des Querschnitt 127](T6_m_chi/m_chi_127.svg){#fig-m_chi_127}"
      ],
      "text/plain": [
       "<IPython.core.display.Markdown object>"
      ]
     },
     "metadata": {},
     "output_type": "display_data"
    },
    {
     "data": {
      "text/markdown": [
       "![Momenten-Krümmungs-Beziehung des Querschnitt 128](T6_m_chi/qs_128.svg){#fig-qs_128}"
      ],
      "text/plain": [
       "<IPython.core.display.Markdown object>"
      ]
     },
     "metadata": {},
     "output_type": "display_data"
    },
    {
     "data": {
      "text/markdown": [
       "![Momenten-Krümmungs-Beziehung des Querschnitt 128](T6_m_chi/m_chi_128.svg){#fig-m_chi_128}"
      ],
      "text/plain": [
       "<IPython.core.display.Markdown object>"
      ]
     },
     "metadata": {},
     "output_type": "display_data"
    },
    {
     "data": {
      "text/markdown": [
       "![Momenten-Krümmungs-Beziehung des Querschnitt 129](T6_m_chi/qs_129.svg){#fig-qs_129}"
      ],
      "text/plain": [
       "<IPython.core.display.Markdown object>"
      ]
     },
     "metadata": {},
     "output_type": "display_data"
    },
    {
     "data": {
      "text/markdown": [
       "![Momenten-Krümmungs-Beziehung des Querschnitt 129](T6_m_chi/m_chi_129.svg){#fig-m_chi_129}"
      ],
      "text/plain": [
       "<IPython.core.display.Markdown object>"
      ]
     },
     "metadata": {},
     "output_type": "display_data"
    },
    {
     "data": {
      "text/markdown": [
       "![Momenten-Krümmungs-Beziehung des Querschnitt 130](T6_m_chi/qs_130.svg){#fig-qs_130}"
      ],
      "text/plain": [
       "<IPython.core.display.Markdown object>"
      ]
     },
     "metadata": {},
     "output_type": "display_data"
    },
    {
     "data": {
      "text/markdown": [
       "![Momenten-Krümmungs-Beziehung des Querschnitt 130](T6_m_chi/m_chi_130.svg){#fig-m_chi_130}"
      ],
      "text/plain": [
       "<IPython.core.display.Markdown object>"
      ]
     },
     "metadata": {},
     "output_type": "display_data"
    }
   ],
   "source": [
    "for i in range(0,131):\n",
    "    display(Markdown(\n",
    "        f\"\"\"![Momenten-Krümmungs-Beziehung des Querschnitt {i}](T6_m_chi/qs_{i}.svg){{#fig-qs_{i}}}\"\"\"\n",
    "    ),Markdown(\n",
    "        f\"\"\"![Momenten-Krümmungs-Beziehung des Querschnitt {i}](T6_m_chi/m_chi_{i}.svg){{#fig-m_chi_{i}}}\"\"\"\n",
    "    ))"
   ]
  },
  {
   "cell_type": "code",
   "execution_count": null,
   "metadata": {},
   "outputs": [],
   "source": []
  }
 ],
 "metadata": {
  "kernelspec": {
   "display_name": "engineering",
   "language": "python",
   "name": "python3"
  },
  "language_info": {
   "codemirror_mode": {
    "name": "ipython",
    "version": 3
   },
   "file_extension": ".py",
   "mimetype": "text/x-python",
   "name": "python",
   "nbconvert_exporter": "python",
   "pygments_lexer": "ipython3",
   "version": "3.11.9"
  }
 },
 "nbformat": 4,
 "nbformat_minor": 2
}
