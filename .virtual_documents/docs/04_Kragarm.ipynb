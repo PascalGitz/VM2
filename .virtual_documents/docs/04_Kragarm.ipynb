from input import *








get_ipython().run_cell_magic("render", " params", """
E = 10000*N/mm**2
F_1 = -10000*N
F_2 = -21500*N
h = 400*mm
k_phi_1 = 100000*(N*m)/rad
k_phi_2 = 10000*(N*m)/rad
l_Kragarm = 5*m
z = 400*mm
b = 200*mm
""")








#| label: fig-springcharacteristic
#| fig-cap: "Charakteristik der Drehfeder"


def M_phi_spring(phi: np.array, k_phi_1, k_phi_2):
    phi_1, phi_2, phi_3, phi_4 = np.array_split(phi.magnitude, 4)*rad
    M_phi_1 = phi_3 * k_phi_1
    M_phi_2 = M_phi_1[-1] + phi_3 * k_phi_2
    M_phi_3 = np.flip(-M_phi_1)
    M_phi_4 = np.flip(-M_phi_2)

    M_phi = np.concatenate((M_phi_4, M_phi_3, M_phi_1, M_phi_2))
    return M_phi


# Arrays
Phi_spring_array = np.linspace(-1, 1, 1000)*rad
M_phi_array = M_phi_spring(Phi_spring_array, k_phi_1, k_phi_2)


plt.plot(Phi_spring_array, M_phi_array / 10**3, color="black")
#plt.fill_between(Phi_spring_array, M_phi_array / 10**3, color="black", alpha=0.1)

plt.xlabel("$\\varphi$ [rad]")
plt.ylabel("$M$ [kNm]")
plt.show()





# GEOMETRY System
x_array = np.linspace(0, l_Kragarm, 500)
q_array = np.zeros(len(x_array))
I = h**3 * b / 12


def V_x(c, q_x, x):
    q_integrated = integrate.cumulative_trapezoid(q_x, x, initial=0)
    return -q_integrated + c[0]


def M_x(c, q_x, x):
    V_x_calc = V_x(c, q_x, x)
    V_integrated = integrate.cumulative_trapezoid(V_x_calc, x, initial=0)
    return V_integrated + c[1]


def Phi_x(c, q_x, x, E, I):
    M_x_calc = M_x(c, q_x, x)
    M_integrated = integrate.cumulative_trapezoid(M_x_calc, x, initial=0)
    return 1 / (E * I) * M_integrated + c[2]


def w_x(c, q_x, x, E, I):
    Phi_x_calc = Phi_x(c, q_x, x, E, I)
    Phi_integrated = -integrate.cumulative_trapezoid(Phi_x_calc, x, initial=0)
    return Phi_integrated + c[3]


# Define the equations to solve


def calc_internal_forces(F: float, E, I):
    def initial_conditions(c):
        return [
            V_x(c, q_array, x_array)[0] + F,  # Shear force at the start is F
            M_x(c, q_array, x_array)[-1],  # Bending moment at the end is 0
            Phi_x(c, q_array, x_array, E, I)[0],  # Angle or rotation at the start is 0
            w_x(c, q_array, x_array, E, I)[0],
        ]  # Displacement at the start is 0

    # Solve for the integration constants
    integration_constants = fsolve(initial_conditions, [1, 1, 1, 1])

    V_x_array = V_x(integration_constants, q_array, x_array)
    M_x_array = M_x(integration_constants, q_array, x_array)
    Phi_x_array = Phi_x(integration_constants, q_array, x_array, E, I)
    w_x_array = w_x(integration_constants, q_array, x_array, E, I)

    return V_x_array, M_x_array, Phi_x_array, w_x_array


internal_forces_F1 = calc_internal_forces(F_1.magnitude, E.to(N/m**2).magnitude, I.to(m**4).magnitude)
internal_forces_F2 = calc_internal_forces(F_2.magnitude, E.to(N/m**2).magnitude, I.to(m**4).magnitude)


plot_counter_inner_forces = 1


def plot_inner_forces(
    V: np.array,
    M: np.array,
    Phi: np.array,
    w: np.array,
    x: np.array,
    kinematic=True,
    colors: list = ["green", "orange", "red", "blue"],
):
    global plot_counter_inner_forces

    fig, axs = plt.subplots(2, 2, figsize=(6, 4))

    # Plot V_x_array
    axs[0, 0].plot(x, V / 1000, color=colors[0], alpha=0.5)
    axs[0, 0].fill_between(x, V / 1000, color=colors[0], alpha=0.1)
    axs[0, 0].plot(x, x * 0, color="black")
    axs[0, 0].set_xlabel("$x$ [m]")
    axs[0, 0].set_ylabel("$V$ [kN]")

    # Plot M_x_array
    axs[0, 1].plot(x, M / 10**3, color=colors[1], alpha=0.5)
    axs[0, 1].fill_between(x, M / 10**3, color=colors[1], alpha=0.1)
    axs[0, 1].plot(x, x * 0, color="black")
    axs[0, 1].invert_yaxis()  # Invert the y-axis

    axs[0, 1].set_xlabel("$x$ [m]")
    axs[0, 1].set_ylabel("$M$ [kNm]")

    # Plot Phi_x_array
    axs[1, 0].plot(x, Phi, color=colors[2], alpha=0.5)
    axs[1, 0].fill_between(x, Phi, color=colors[2], alpha=0.1)
    axs[1, 0].plot(x, x * 0, color="black")
    axs[1, 0].set_xlabel("$x$ [m]")
    # axs[1, 0].set_ylim(0,1)
    axs[1, 0].set_ylabel("$\\varphi$ [-]")

    # Plot w_x_array
    axs[1, 1].plot(x, w * 1000, color=colors[3], alpha=0.5)
    axs[1, 1].fill_between(x, w * 1000, color=colors[3], alpha=0.1)
    axs[1, 1].plot(x, x * 0, color="black")
    axs[1, 1].invert_yaxis()  # Invert the y-axis
    axs[1, 1].set_xlabel("$x$ [m]")
    axs[1, 1].set_ylabel("$w$ [mm]")

    if kinematic == False:
        fig.delaxes(axs[1, 1])
        fig.delaxes(axs[1, 0])
        axs[0, 0].set_ylabel("$\\bar{V}$ [-]")
        axs[0, 1].set_ylabel("$\\bar{M}$ [m]")


    plt.tight_layout()
    plt.savefig(f"imgs/inner_forces_{plot_counter_inner_forces}.svg")
    plt.show()
    plot_counter_inner_forces += 1


#| label: fig-skkragarmreal
#| fig-cap: "Schnittkräfte des Systems aus @fig-kragarm-sys für die Last $F_1$"

plot_inner_forces(*internal_forces_F1, x_array, kinematic=True)





get_ipython().run_cell_magic("render", " params", """# w_max_hand = (-F_1 * l_Kragarm**3 / (3 * E * I)).to(mm)
w_bendingF1 = (internal_forces_F1[-1][-1]*m).to(mm)""")





#| label: fig-skkragarmreal_high
#| fig-cap: "Schnittkräfte des Systems aus @fig-kragarm-sys für die Last $F2$"

plot_inner_forces(*internal_forces_F2, x_array)





get_ipython().run_cell_magic("render", " params", """# w_max_hand = (-F_1 * l_Kragarm**3 / (3 * E * I)).to(mm)
w_bendingF2 = (internal_forces_F2[-1][-1]*m).to(mm)""")





#| label: fig-sk-kragarm-virtuell
#| fig-cap: "Schnittkräfte des virtuellen Systems aus @fig-kragarm-sys-virtuell"

internal_forces_virtual = calc_internal_forces(-1.0, E.magnitude, I.magnitude)

plot_inner_forces(
    *internal_forces_virtual,
    x_array,
    kinematic=False,
    colors=["black", "black", "black", "black"]
)






# Takes the corresponding phi for the middle M
phi_spring_F1 = np.interp(
    np.median(internal_forces_F1[1])*N*m, M_phi_array, Phi_spring_array
)
phi_spring_F2 = np.interp(
    np.median(internal_forces_F2[1])*N*m, M_phi_array, Phi_spring_array
)


#| label: fig-feder-force
#| fig-cap: "Charakteristik der Drehfeder mit Bestimmung der Verdrehung anhand der Laststufen"


plt.plot(Phi_spring_array, M_phi_array / 10**3, color="black")
#plt.fill_between(Phi_spring_array, M_phi_array / 10**3, color="black", alpha=0.1)

plt.axvline(x=phi_spring_F1, color="black", linestyle="--", label="$F_1$")
plt.axvline(x=phi_spring_F2, color="black", linestyle="dotted", label="$F_2$")


plt.xlabel("$\\varphi$ [rad]")
plt.ylabel("$M$ [kNm]")
plt.legend()
plt.savefig("imgs/spring_charact.svg")
plt.show()





get_ipython().run_cell_magic("render", " params", """
w_spring_F1 = (np.median(internal_forces_virtual[1]) * phi_spring_F1*m).to(mm)
w_spring_F2 = (np.median(internal_forces_virtual[1]) * phi_spring_F2*m).to(mm)

""")





get_ipython().run_cell_magic("render", " ", """
w_tot_F1 = w_spring_F1 + w_bendingF1
w_tot_F2 = w_spring_F2 + w_bendingF2
""")

















def F_u_spring(M: np.array, Phi: np.array, z: float):
    F = M / z
    u = np.tan(Phi) * z / 2

    return F, u


F_array, u_array = F_u_spring(M_phi_array, Phi_spring_array, z)


#| label: fig-wegfeder-force
#| fig-cap: "Charakteristik der Wegfeder"


# The deformations for the corresponding F
index_F1 = np.argmin(np.abs(F_array - 61.25*kN))
u_F1 = u_array[index_F1]

index_F2 = np.argmin(np.abs(F_array - 131.69 *kN))
u_F2 = u_array[index_F2]

plt.axvline(x=u_F1.magnitude, color="black", linestyle="--", label="$F_1$")
plt.axvline(x=u_F2.magnitude, color="black", linestyle="dotted", label="$F_2$")


plt.plot(u_array, F_array , color="black")
#plt.fill_between(u_array, F_array, color="black", alpha=0.1)
plt.xlabel("$u$ [mm]")
plt.ylabel("$F$ [kN]")
plt.savefig("imgs/F_u.svg")
plt.show()


# Federgesetz wird zu einer Textdatei gespeichert um diese ins AxisVM zu implementieren

array_reduced = np.linspace(min(u_array),max(u_array),100)
F_array_reduce = np.interp(array_reduced, u_array, F_array)
u_array_reduce = np.interp(F_array_reduce, F_array, u_array)

# Save the array to a text file
np.savetxt('u_array.txt', u_array_reduce.magnitude)
np.savetxt('F_array.txt', F_array_reduce.magnitude)












