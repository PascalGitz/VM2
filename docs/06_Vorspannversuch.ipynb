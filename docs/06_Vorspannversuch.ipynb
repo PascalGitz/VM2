{
 "cells": [
  {
   "cell_type": "code",
   "execution_count": 1,
   "metadata": {},
   "outputs": [],
   "source": [
    "from input import *\n",
    "\n"
   ]
  },
  {
   "cell_type": "markdown",
   "metadata": {},
   "source": [
    "# Versuch mit Vorspannung "
   ]
  },
  {
   "cell_type": "markdown",
   "metadata": {},
   "source": [
    "## Parameter DLT 1.1"
   ]
  },
  {
   "cell_type": "code",
   "execution_count": 2,
   "metadata": {},
   "outputs": [
    {
     "data": {
      "text/latex": [
       "$$\n",
       "\\begin{aligned}\n",
       "A_{p} &= 140.000\\ \\mathrm{mm}^{2} \\; \\;\\textrm{(pro Litze)}\n",
       " &n_{l} &= 3 \\; \\;\\textrm{(Litzen in Spannglied)}\n",
       " &n_{x} &= 2 \\; \\;\\textrm{(Spannglieder)}\n",
       "\\\\[12pt]\n",
       " f_{p01} &= 1729.000\\ \\mathrm{MPa} \\; \n",
       " &f_{p02} &= 1764.000\\ \\mathrm{MPa} \\; \n",
       " &E_{P} &= 190000.000\\ \\mathrm{MPa} \\; \n",
       "\\\\[12pt]\n",
       " P_{t0} &= 335.000\\ \\mathrm{kN} \\; \\;\\textrm{(pro Spannglied)}\n",
       "\\end{aligned}\n",
       "$$"
      ],
      "text/plain": [
       "<IPython.core.display.Latex object>"
      ]
     },
     "metadata": {},
     "output_type": "display_data"
    }
   ],
   "source": [
    "%%render params\n",
    "\n",
    "A_p = 140*mm**2 #pro Litze\n",
    "n_l = 3 #Litzen in Spannglied\n",
    "n_x = 2 #Spannglieder\n",
    " \n",
    "f_p01 = 1729*MPa\n",
    "f_p02 = 1764*MPa \n",
    "E_P = 190000*MPa\n",
    "\n",
    "P_t0 = 335*kN #pro Spannglied\n"
   ]
  },
  {
   "cell_type": "code",
   "execution_count": 3,
   "metadata": {},
   "outputs": [
    {
     "data": {
      "text/latex": [
       "$$\n",
       "\\begin{aligned}\n",
       "\\kappa &= \\left( \\frac{ P_{t0} }{ n_{l} \\cdot A_{p} \\cdot f_{p01} } \\right)  = \\left( \\frac{ 335.000\\ \\mathrm{kN} }{ 3 \\cdot 140.000\\ \\mathrm{mm}^{2} \\cdot 1729.000\\ \\mathrm{MPa} } \\right) &= 0.461\\  \n",
       "\\end{aligned}\n",
       "$$"
      ],
      "text/plain": [
       "<IPython.core.display.Latex object>"
      ]
     },
     "metadata": {},
     "output_type": "display_data"
    }
   ],
   "source": [
    "%%render \n",
    "kappa = (P_t0 / (n_l * A_p*f_p01)).to(los)\n"
   ]
  },
  {
   "cell_type": "markdown",
   "metadata": {},
   "source": [
    "## Momenten-Krümmungs-Beziehung"
   ]
  },
  {
   "cell_type": "markdown",
   "metadata": {},
   "source": []
  }
 ],
 "metadata": {
  "kernelspec": {
   "display_name": "calcs11",
   "language": "python",
   "name": "python3"
  },
  "language_info": {
   "codemirror_mode": {
    "name": "ipython",
    "version": 3
   },
   "file_extension": ".py",
   "mimetype": "text/x-python",
   "name": "python",
   "nbconvert_exporter": "python",
   "pygments_lexer": "ipython3",
   "version": "3.11.7"
  }
 },
 "nbformat": 4,
 "nbformat_minor": 2
}
